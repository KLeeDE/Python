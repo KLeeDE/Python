{
  "nbformat": 4,
  "nbformat_minor": 0,
  "metadata": {
    "colab": {
      "name": "1_Python_Week1_Introduction_to_Python",
      "provenance": [],
      "authorship_tag": "ABX9TyP0IQ6QXUtEhsKXZ/sdHwHD",
      "include_colab_link": true
    },
    "kernelspec": {
      "name": "python3",
      "display_name": "Python 3"
    }
  },
  "cells": [
    {
      "cell_type": "markdown",
      "metadata": {
        "id": "view-in-github",
        "colab_type": "text"
      },
      "source": [
        "<a href=\"https://colab.research.google.com/github/KLeeDE/Python/blob/master/1_Python_Week1_Introduction_to_Python.ipynb\" target=\"_parent\"><img src=\"https://colab.research.google.com/assets/colab-badge.svg\" alt=\"Open In Colab\"/></a>"
      ]
    },
    {
      "cell_type": "markdown",
      "metadata": {
        "id": "kITTKOVAGdk4"
      },
      "source": [
        "#**GEOG473-673 Python Week1**\n",
        "\n",
        "GEOG673 Select Technical Topics \n",
        "\n",
        "Kyungmin Lee / @KLeeDE\n",
        "\n",
        "Nov 25, 2020"
      ]
    },
    {
      "cell_type": "markdown",
      "metadata": {
        "id": "Xd67kWN1Gzhw"
      },
      "source": [
        "#Tutorial\n",
        "\n",
        "https://github.com/jsimkins2/geog473-673/blob/master/Python/Introduction_to_Python.ipynb"
      ]
    },
    {
      "cell_type": "markdown",
      "metadata": {
        "id": "Ar-wcM5DHdit"
      },
      "source": [
        "## Variables"
      ]
    },
    {
      "cell_type": "code",
      "metadata": {
        "id": "4ohQnzzYG2Wy"
      },
      "source": [
        "var1 = 1 #integer\n",
        "var2 = 2.34 # floating point numbers\n",
        "var3 = 5.6+7.8j #complex numbers\n",
        "var4 = \"Hellow World\" # strings\n",
        "var5 = True #booleans\n",
        "var6 = None # special values to indicate the absence of a value"
      ],
      "execution_count": 1,
      "outputs": []
    },
    {
      "cell_type": "code",
      "metadata": {
        "id": "_9cGKJWCGbT7",
        "colab": {
          "base_uri": "https://localhost:8080/"
        },
        "outputId": "93833bdd-a16f-4d04-d40a-5b1a6ef556e4"
      },
      "source": [
        "x = 5.333\n",
        "y = int(x)\n",
        "print(y, type(y))\n",
        "print(x, type(x))"
      ],
      "execution_count": 2,
      "outputs": [
        {
          "output_type": "stream",
          "text": [
            "5 <class 'int'>\n",
            "5.333 <class 'float'>\n"
          ],
          "name": "stdout"
        }
      ]
    },
    {
      "cell_type": "markdown",
      "metadata": {
        "id": "MkqmDLkNIWra"
      },
      "source": [
        "## Assignning variables and using operators"
      ]
    },
    {
      "cell_type": "code",
      "metadata": {
        "id": "SlQoTmHyIT71"
      },
      "source": [
        "#-Convert degrees Celsius to degrees Fahrenheit\n",
        "temp_c = 10\n",
        "temp_f = temp_c * 9/5 + 32 "
      ],
      "execution_count": 5,
      "outputs": []
    },
    {
      "cell_type": "code",
      "metadata": {
        "colab": {
          "base_uri": "https://localhost:8080/"
        },
        "id": "LPueiyhbIZHM",
        "outputId": "3b1965c9-ba71-45bc-9ea6-59b642b60438"
      },
      "source": [
        "5>9"
      ],
      "execution_count": 6,
      "outputs": [
        {
          "output_type": "execute_result",
          "data": {
            "text/plain": [
              "False"
            ]
          },
          "metadata": {
            "tags": []
          },
          "execution_count": 6
        }
      ]
    },
    {
      "cell_type": "code",
      "metadata": {
        "colab": {
          "base_uri": "https://localhost:8080/"
        },
        "id": "ntH-P4HLIkX9",
        "outputId": "5ca00e35-302b-4b64-8abc-6a9c517bb821"
      },
      "source": [
        "10 == 3"
      ],
      "execution_count": 7,
      "outputs": [
        {
          "output_type": "execute_result",
          "data": {
            "text/plain": [
              "False"
            ]
          },
          "metadata": {
            "tags": []
          },
          "execution_count": 7
        }
      ]
    },
    {
      "cell_type": "code",
      "metadata": {
        "colab": {
          "base_uri": "https://localhost:8080/"
        },
        "id": "DlzufF70Ila0",
        "outputId": "ccf3ad0e-d5a8-4e81-a390-7a8dce822692"
      },
      "source": [
        "12 <= 100"
      ],
      "execution_count": 8,
      "outputs": [
        {
          "output_type": "execute_result",
          "data": {
            "text/plain": [
              "True"
            ]
          },
          "metadata": {
            "tags": []
          },
          "execution_count": 8
        }
      ]
    },
    {
      "cell_type": "code",
      "metadata": {
        "colab": {
          "base_uri": "https://localhost:8080/"
        },
        "id": "pq073zC_Imlk",
        "outputId": "89a54fd7-b5ca-4de4-86c7-4288689b6de8"
      },
      "source": [
        "12 != 3.4"
      ],
      "execution_count": 9,
      "outputs": [
        {
          "output_type": "execute_result",
          "data": {
            "text/plain": [
              "True"
            ]
          },
          "metadata": {
            "tags": []
          },
          "execution_count": 9
        }
      ]
    },
    {
      "cell_type": "code",
      "metadata": {
        "id": "bnfJjw5yIn-l"
      },
      "source": [
        "b = 3 > 8"
      ],
      "execution_count": 10,
      "outputs": []
    },
    {
      "cell_type": "code",
      "metadata": {
        "colab": {
          "base_uri": "https://localhost:8080/"
        },
        "id": "YaFmy7WoIpu8",
        "outputId": "5a8928d1-b3a1-4e57-cd03-b2f06137e8c8"
      },
      "source": [
        "print(b)"
      ],
      "execution_count": 11,
      "outputs": [
        {
          "output_type": "stream",
          "text": [
            "False\n"
          ],
          "name": "stdout"
        }
      ]
    },
    {
      "cell_type": "code",
      "metadata": {
        "colab": {
          "base_uri": "https://localhost:8080/"
        },
        "id": "sLgQD3VkIrU8",
        "outputId": "bbb3c008-3bc7-4eda-eaa4-93d17e178e60"
      },
      "source": [
        "type(b)"
      ],
      "execution_count": 12,
      "outputs": [
        {
          "output_type": "execute_result",
          "data": {
            "text/plain": [
              "bool"
            ]
          },
          "metadata": {
            "tags": []
          },
          "execution_count": 12
        }
      ]
    },
    {
      "cell_type": "markdown",
      "metadata": {
        "id": "Q22hSQ2oIui-"
      },
      "source": [
        "##Data types"
      ]
    },
    {
      "cell_type": "code",
      "metadata": {
        "id": "DGVzd3ugI4UR"
      },
      "source": [
        "var1 = 1 #integer\n",
        "var2 = 2.34 # floating point numbers\n",
        "var3 = 5.6+7.8j #complex numbers\n",
        "var4 = \"Hellow World\" # strings\n",
        "var5 = True #booleans\n",
        "var6 = None # special values to indicate the absence of a value"
      ],
      "execution_count": null,
      "outputs": []
    },
    {
      "cell_type": "code",
      "metadata": {
        "colab": {
          "base_uri": "https://localhost:8080/"
        },
        "id": "ZZqvP7DeIsRk",
        "outputId": "dea11b66-cac1-4228-ed03-e576f325bf51"
      },
      "source": [
        "print(\"var1 value:\", var1, \"/ type:\", type(var1)) \n",
        "print(\"var2 value:\", var2, \"/ type:\", type(var2)) \n",
        "print(\"var3 value:\", var3, \"/ type:\", type(var3)) # Complex numbers = a+bi (복소수)\n",
        "print(\"var4 value:\", var4, \"/ type:\", type(var4)) \n",
        "print(\"var5 value:\", var5, \"/ type:\", type(var5)) # Boolean \n",
        "print(\"var6 value:\", var6, \"/ type:\", type(var6)) "
      ],
      "execution_count": 16,
      "outputs": [
        {
          "output_type": "stream",
          "text": [
            "var1 value: 1 / type: <class 'int'>\n",
            "var2 value: 2.34 / type: <class 'float'>\n",
            "var3 value: (5.6+7.8j) / type: <class 'complex'>\n",
            "var4 value: Hellow World / type: <class 'str'>\n",
            "var5 value: True / type: <class 'bool'>\n",
            "var6 value: None / type: <class 'NoneType'>\n"
          ],
          "name": "stdout"
        }
      ]
    },
    {
      "cell_type": "markdown",
      "metadata": {
        "id": "5pZ7SO_EJ1GH"
      },
      "source": [
        "**Note (Boolean data)**: In computer science, the Boolean data type is a data type that has one of two possible values (usually denoted true and false); 불리언 자료형(논리 자료형)"
      ]
    },
    {
      "cell_type": "markdown",
      "metadata": {
        "id": "-Qia5zjXKIH0"
      },
      "source": [
        "##Containers"
      ]
    },
    {
      "cell_type": "code",
      "metadata": {
        "colab": {
          "base_uri": "https://localhost:8080/"
        },
        "id": "Ojyf4PMUI6pF",
        "outputId": "e7d2cf6c-870b-4381-b406-f5f809c02446"
      },
      "source": [
        "# Lists\n",
        "weather = [\"rain\", \"snow\", \"hail\"]\n",
        "print(weather)\n",
        "print(\"length:\", len(weather))"
      ],
      "execution_count": 17,
      "outputs": [
        {
          "output_type": "stream",
          "text": [
            "['rain', 'snow', 'hail']\n",
            "length: 3\n"
          ],
          "name": "stdout"
        }
      ]
    },
    {
      "cell_type": "code",
      "metadata": {
        "colab": {
          "base_uri": "https://localhost:8080/"
        },
        "id": "EsOJ7XOYKS7X",
        "outputId": "2dbd6fdc-aead-485f-c2c7-45a020b170a2"
      },
      "source": [
        "mixed_type_list = [\"rain\", 4.5, 99, None]\n",
        "print(mixed_type_list)"
      ],
      "execution_count": 18,
      "outputs": [
        {
          "output_type": "stream",
          "text": [
            "['rain', 4.5, 99, None]\n"
          ],
          "name": "stdout"
        }
      ]
    },
    {
      "cell_type": "code",
      "metadata": {
        "colab": {
          "base_uri": "https://localhost:8080/"
        },
        "id": "vN4AGzOMKZc0",
        "outputId": "f4d6135c-08b4-4528-a2f6-7b7d4ee9d9fa"
      },
      "source": [
        "# Add element\n",
        "weather = [\"rain\", \"snow\", \"hail\"]\n",
        "weather.append(\"drizzle\") \n",
        "print(weather)"
      ],
      "execution_count": 19,
      "outputs": [
        {
          "output_type": "stream",
          "text": [
            "['rain', 'snow', 'hail', 'drizzle']\n"
          ],
          "name": "stdout"
        }
      ]
    },
    {
      "cell_type": "code",
      "metadata": {
        "colab": {
          "base_uri": "https://localhost:8080/"
        },
        "id": "iKxBAabWKkFW",
        "outputId": "75d1b008-366e-40d3-8103-53fbdbcc2103"
      },
      "source": [
        "# Insert groupel before position 1\n",
        "weather = [\"rain\", \"snow\", \"hail\"]\n",
        "weather.insert(1, \"graupel\")\n",
        "print(weather)"
      ],
      "execution_count": 20,
      "outputs": [
        {
          "output_type": "stream",
          "text": [
            "['rain', 'graupel', 'snow', 'hail']\n"
          ],
          "name": "stdout"
        }
      ]
    },
    {
      "cell_type": "code",
      "metadata": {
        "colab": {
          "base_uri": "https://localhost:8080/"
        },
        "id": "Ck5UXUAaKp2U",
        "outputId": "6b0e13a8-c8e0-4a73-8603-8e634adba116"
      },
      "source": [
        "# Remove the first element from the list\n",
        "weather = [\"rain\", \"snow\", \"hail\"]\n",
        "del weather[0]\n",
        "print(weather)"
      ],
      "execution_count": 21,
      "outputs": [
        {
          "output_type": "stream",
          "text": [
            "['snow', 'hail']\n"
          ],
          "name": "stdout"
        }
      ]
    },
    {
      "cell_type": "code",
      "metadata": {
        "colab": {
          "base_uri": "https://localhost:8080/"
        },
        "id": "5MTFbYcsKvHQ",
        "outputId": "8a15d19f-2e86-49bf-c0d1-b035085a8639"
      },
      "source": [
        "# Remove the last item from the list and store it in hydrometeor\n",
        "weather = [\"rain\", \"snow\", \"hail\"]\n",
        "observation = weather.pop()\n",
        "print(\"observation:\", observation)\n",
        "print(\"weather:\", weather)"
      ],
      "execution_count": 22,
      "outputs": [
        {
          "output_type": "stream",
          "text": [
            "observation: hail\n",
            "weather: ['rain', 'snow']\n"
          ],
          "name": "stdout"
        }
      ]
    },
    {
      "cell_type": "markdown",
      "metadata": {
        "id": "L8WmKhYYLOxr"
      },
      "source": [
        "## Elements of a list can be changed"
      ]
    },
    {
      "cell_type": "code",
      "metadata": {
        "colab": {
          "base_uri": "https://localhost:8080/"
        },
        "id": "jp87dsMHK55k",
        "outputId": "69181e95-e473-4267-a302-ccf5525d1979"
      },
      "source": [
        "weather = [\"rain\", \"snow\", \"hail\"]\n",
        "print(\"Before changes:\", weather)\n",
        "weather[0] = 'select'\n",
        "print(\"After chagnes:\", weather)"
      ],
      "execution_count": 23,
      "outputs": [
        {
          "output_type": "stream",
          "text": [
            "Before changes: ['rain', 'snow', 'hail']\n",
            "After chagnes: ['select', 'snow', 'hail']\n"
          ],
          "name": "stdout"
        }
      ]
    },
    {
      "cell_type": "markdown",
      "metadata": {
        "id": "AGdEzu4-Ldtl"
      },
      "source": [
        "##List indexing"
      ]
    },
    {
      "cell_type": "code",
      "metadata": {
        "colab": {
          "base_uri": "https://localhost:8080/"
        },
        "id": "TlXvsFUWLbHe",
        "outputId": "aa91f3c6-aa70-4ef4-cc29-25885ae8bf1b"
      },
      "source": [
        "# List indexing \n",
        "weather = [\"rain\", \"snow\", \"hail\"]\n",
        "print(\"index 0:\", weather[0])\n",
        "print(\"index 1:\", weather[1])\n",
        "print(\"index 2:\", weather[2])"
      ],
      "execution_count": 24,
      "outputs": [
        {
          "output_type": "stream",
          "text": [
            "index 0: rain\n",
            "index 1: snow\n",
            "index 2: hail\n"
          ],
          "name": "stdout"
        }
      ]
    },
    {
      "cell_type": "code",
      "metadata": {
        "colab": {
          "base_uri": "https://localhost:8080/",
          "height": 166
        },
        "id": "m8CFy7o3LlG-",
        "outputId": "0346e4c6-1aaf-4e00-a9f5-dab78b5e3fe4"
      },
      "source": [
        "weather[3] # Trying to access elements which do not exist raises a IndexError"
      ],
      "execution_count": 25,
      "outputs": [
        {
          "output_type": "error",
          "ename": "IndexError",
          "evalue": "ignored",
          "traceback": [
            "\u001b[0;31m---------------------------------------------------------------------------\u001b[0m",
            "\u001b[0;31mIndexError\u001b[0m                                Traceback (most recent call last)",
            "\u001b[0;32m<ipython-input-25-ba56f0156475>\u001b[0m in \u001b[0;36m<module>\u001b[0;34m()\u001b[0m\n\u001b[0;32m----> 1\u001b[0;31m \u001b[0mweather\u001b[0m\u001b[0;34m[\u001b[0m\u001b[0;36m3\u001b[0m\u001b[0;34m]\u001b[0m \u001b[0;31m# Trying to access elements which do not exist raises a IndexError\u001b[0m\u001b[0;34m\u001b[0m\u001b[0;34m\u001b[0m\u001b[0m\n\u001b[0m",
            "\u001b[0;31mIndexError\u001b[0m: list index out of range"
          ]
        }
      ]
    },
    {
      "cell_type": "code",
      "metadata": {
        "colab": {
          "base_uri": "https://localhost:8080/"
        },
        "id": "O03HvvgpLqtN",
        "outputId": "d63bcd3d-39d2-4fad-d51d-5f0915dc01f8"
      },
      "source": [
        "weather = [\"rain\", \"snow\", \"hail\"]\n",
        "print(\"index -1:\", weather[-1])\n",
        "print(\"index -2:\", weather[-2])\n",
        "print(\"index -3:\", weather[-3])"
      ],
      "execution_count": 26,
      "outputs": [
        {
          "output_type": "stream",
          "text": [
            "index -1: hail\n",
            "index -2: snow\n",
            "index -3: rain\n"
          ],
          "name": "stdout"
        }
      ]
    },
    {
      "cell_type": "markdown",
      "metadata": {
        "id": "9kAfuw6uMH9b"
      },
      "source": [
        "##List slicing\n",
        "Syntax: list_variables[start:end:step]\n",
        "\n",
        "구문 또는 신택스(syntax)란 프로그래밍 언어에서 프로그램의 모습, 형태, 구조가 어떻게 보이는지에 대해 정의하는 것이며, 구문은 정해진 문법을 이용한다.\n"
      ]
    },
    {
      "cell_type": "code",
      "metadata": {
        "colab": {
          "base_uri": "https://localhost:8080/"
        },
        "id": "UjL3tX_5Lzk9",
        "outputId": "c689671d-db14-4203-8a48-ee8444c9ceaa"
      },
      "source": [
        "weather = ['rain', 'snow', 'hail', 'drizzle', 'graupel', 'sleet']\n",
        "print(weather[2:4])"
      ],
      "execution_count": 27,
      "outputs": [
        {
          "output_type": "stream",
          "text": [
            "['hail', 'drizzle']\n"
          ],
          "name": "stdout"
        }
      ]
    },
    {
      "cell_type": "code",
      "metadata": {
        "colab": {
          "base_uri": "https://localhost:8080/"
        },
        "id": "ZD6dE7wrMeBw",
        "outputId": "45dd5f71-7eb1-44fb-e604-8e31d0b92530"
      },
      "source": [
        "weather[:3]"
      ],
      "execution_count": 28,
      "outputs": [
        {
          "output_type": "execute_result",
          "data": {
            "text/plain": [
              "['rain', 'snow', 'hail']"
            ]
          },
          "metadata": {
            "tags": []
          },
          "execution_count": 28
        }
      ]
    },
    {
      "cell_type": "code",
      "metadata": {
        "colab": {
          "base_uri": "https://localhost:8080/"
        },
        "id": "YOHRe2CtMf7F",
        "outputId": "bcf8b1b5-6022-4e3a-9641-69260e279f11"
      },
      "source": [
        "weather[3:]"
      ],
      "execution_count": 29,
      "outputs": [
        {
          "output_type": "execute_result",
          "data": {
            "text/plain": [
              "['drizzle', 'graupel', 'sleet']"
            ]
          },
          "metadata": {
            "tags": []
          },
          "execution_count": 29
        }
      ]
    },
    {
      "cell_type": "code",
      "metadata": {
        "colab": {
          "base_uri": "https://localhost:8080/"
        },
        "id": "clHS0n9iMhXN",
        "outputId": "4fe1080a-3447-4633-d1ea-43cae879faa2"
      },
      "source": [
        "weather[3:-1]"
      ],
      "execution_count": 30,
      "outputs": [
        {
          "output_type": "execute_result",
          "data": {
            "text/plain": [
              "['drizzle', 'graupel']"
            ]
          },
          "metadata": {
            "tags": []
          },
          "execution_count": 30
        }
      ]
    },
    {
      "cell_type": "markdown",
      "metadata": {
        "id": "c00aFdF5Moy9"
      },
      "source": [
        "##Tuples\n",
        "\n",
        "튜플(tuple)은 셀 수 있는 수량의 순서 있는 열거이다. \n",
        "\n",
        "Tuple 자료형은 여러 개의 원소를 담고 있고 각 원소가 순서대로 나열되어 있다는 점에서 List 자료형과 비슷하다. 다만, List는 원소 값을 추가, 삭제, 변경할 수 있지만 Tuple은 원소 값에 변화를 줄 수 없다는 점에서 차이가 있다 (immutable).\n"
      ]
    },
    {
      "cell_type": "code",
      "metadata": {
        "colab": {
          "base_uri": "https://localhost:8080/"
        },
        "id": "L4HtOsQJMi8f",
        "outputId": "e6d725d1-e447-4a9a-b6f8-15b607393e86"
      },
      "source": [
        "t = (\"rain\", \"snow\", \"hail\")\n",
        "print(t)\n",
        "print(len(t))"
      ],
      "execution_count": 32,
      "outputs": [
        {
          "output_type": "stream",
          "text": [
            "('rain', 'snow', 'hail')\n",
            "3\n"
          ],
          "name": "stdout"
        }
      ]
    },
    {
      "cell_type": "code",
      "metadata": {
        "colab": {
          "base_uri": "https://localhost:8080/",
          "height": 166
        },
        "id": "94ou2SiuNLrf",
        "outputId": "bdbc2860-dadf-4e79-fb11-cf55a6f33fcb"
      },
      "source": [
        "t[0] = \"sleet\" # Tuples cannot be changed"
      ],
      "execution_count": 33,
      "outputs": [
        {
          "output_type": "error",
          "ename": "TypeError",
          "evalue": "ignored",
          "traceback": [
            "\u001b[0;31m---------------------------------------------------------------------------\u001b[0m",
            "\u001b[0;31mTypeError\u001b[0m                                 Traceback (most recent call last)",
            "\u001b[0;32m<ipython-input-33-e40190f71be2>\u001b[0m in \u001b[0;36m<module>\u001b[0;34m()\u001b[0m\n\u001b[0;32m----> 1\u001b[0;31m \u001b[0mt\u001b[0m\u001b[0;34m[\u001b[0m\u001b[0;36m0\u001b[0m\u001b[0;34m]\u001b[0m \u001b[0;34m=\u001b[0m \u001b[0;34m\"sleet\"\u001b[0m\u001b[0;34m\u001b[0m\u001b[0;34m\u001b[0m\u001b[0m\n\u001b[0m",
            "\u001b[0;31mTypeError\u001b[0m: 'tuple' object does not support item assignment"
          ]
        }
      ]
    },
    {
      "cell_type": "code",
      "metadata": {
        "colab": {
          "base_uri": "https://localhost:8080/"
        },
        "id": "cGNPL1cVNRGl",
        "outputId": "4f7c41ef-ac6d-463a-dbf9-a16b140fd3d0"
      },
      "source": [
        "\n",
        "observations = ('rain', 'snow', 'hail')  # tuple with three elements\n",
        "obs1, obs2, obs3 = observations    # unpack tuple into obs1, obs2, obs3 variables\n",
        "print(\"observations:\", observations)\n",
        "print(\"obs1:\", obs1)\n",
        "print(\"obs2:\", obs2)\n",
        "print(\"obs3:\", obs3)"
      ],
      "execution_count": 34,
      "outputs": [
        {
          "output_type": "stream",
          "text": [
            "observations: ('rain', 'snow', 'hail')\n",
            "obs1: rain\n",
            "obs2: snow\n",
            "obs3: hail\n"
          ],
          "name": "stdout"
        }
      ]
    },
    {
      "cell_type": "markdown",
      "metadata": {
        "id": "SJUhCZ9ONXbz"
      },
      "source": [
        "## Strings"
      ]
    },
    {
      "cell_type": "code",
      "metadata": {
        "colab": {
          "base_uri": "https://localhost:8080/",
          "height": 69
        },
        "id": "oWRseeBGNVhF",
        "outputId": "09515845-b5cf-45d7-f9ef-4d46a29c23db"
      },
      "source": [
        "'Hi'\n",
        "b = \"Hello, I'm John\"\n",
        "print(b)\n",
        "\n",
        "a = 'On'\n",
        "b = 'Wisconsin'\n",
        "print(a + ' ' + b + '!')\n",
        "\n",
        "# Convert a float to a string\n",
        "str(5.43)"
      ],
      "execution_count": 35,
      "outputs": [
        {
          "output_type": "stream",
          "text": [
            "Hello, I'm John\n",
            "On Wisconsin!\n"
          ],
          "name": "stdout"
        },
        {
          "output_type": "execute_result",
          "data": {
            "application/vnd.google.colaboratory.intrinsic+json": {
              "type": "string"
            },
            "text/plain": [
              "'5.43'"
            ]
          },
          "metadata": {
            "tags": []
          },
          "execution_count": 35
        }
      ]
    },
    {
      "cell_type": "code",
      "metadata": {
        "colab": {
          "base_uri": "https://localhost:8080/"
        },
        "id": "4HqbCTJWNa09",
        "outputId": "7b9d4206-22b8-4c74-bfc5-8049a9b0f103"
      },
      "source": [
        "x = 9.356392\n",
        "y = 29\n",
        "print('The value of x is {}'.format(x))\n",
        "print('The value of y is {}'.format(y))\n",
        "print('The value of x is {} and the value of y is {}'.format(x, y))\n",
        "print('The value of x is {:.3} and the value of y is {:04}'.format(x, y))"
      ],
      "execution_count": 41,
      "outputs": [
        {
          "output_type": "stream",
          "text": [
            "The value of x is 9.356392\n",
            "The value of y is 29\n",
            "The value of x is 9.356392 and the value of y is 29\n",
            "The value of x is 9.36 and the value of y is 0029\n"
          ],
          "name": "stdout"
        }
      ]
    },
    {
      "cell_type": "code",
      "metadata": {
        "colab": {
          "base_uri": "https://localhost:8080/"
        },
        "id": "fa6Zzm8aNdMO",
        "outputId": "468d10cb-c864-42d4-a8b8-7e4bbe8b44fb"
      },
      "source": [
        "#You can also use the string modulo % operator\n",
        "print('The value of x is: %s' % x)"
      ],
      "execution_count": 42,
      "outputs": [
        {
          "output_type": "stream",
          "text": [
            "The value of x is: 9.356392\n"
          ],
          "name": "stdout"
        }
      ]
    },
    {
      "cell_type": "code",
      "metadata": {
        "colab": {
          "base_uri": "https://localhost:8080/"
        },
        "id": "lKESTTnTNiLt",
        "outputId": "fc7db5e6-785b-4589-a508-27b9d33d169e"
      },
      "source": [
        "#The first string modulus % indicates the format of the variable after the second %\n",
        "x = '%6.1f is less than %3d' % (x, 10)\n",
        "print(x)"
      ],
      "execution_count": 43,
      "outputs": [
        {
          "output_type": "stream",
          "text": [
            "   9.4 is less than  10\n"
          ],
          "name": "stdout"
        }
      ]
    },
    {
      "cell_type": "markdown",
      "metadata": {
        "id": "iOuJBgvrOog8"
      },
      "source": [
        "##Dictionaries"
      ]
    },
    {
      "cell_type": "code",
      "metadata": {
        "colab": {
          "base_uri": "https://localhost:8080/"
        },
        "id": "IPibkprIOYcF",
        "outputId": "8dff871a-c142-450c-9877-70cbe812b40f"
      },
      "source": [
        "d = {'site': 'KDOX', 'wind_speed': 20, 'wind_direction': 'east'}\n",
        "\n",
        "print(d.keys())\n",
        "print(d.values())"
      ],
      "execution_count": 49,
      "outputs": [
        {
          "output_type": "stream",
          "text": [
            "dict_keys(['site', 'wind_speed', 'wind_direction'])\n",
            "dict_values(['KDOX', 20, 'east'])\n"
          ],
          "name": "stdout"
        }
      ]
    },
    {
      "cell_type": "code",
      "metadata": {
        "colab": {
          "base_uri": "https://localhost:8080/"
        },
        "id": "cMBtLS1rOrvD",
        "outputId": "752fcb54-7489-4136-ce1f-e3d3bfbe3791"
      },
      "source": [
        "print('site:', d['site'])\n",
        "print('wind_speed:', d['wind_speed'])\n",
        "print('wind_direction:', d['wind_direction'])"
      ],
      "execution_count": 50,
      "outputs": [
        {
          "output_type": "stream",
          "text": [
            "site: KDOX\n",
            "wind_speed: 20\n",
            "wind_direction: east\n"
          ],
          "name": "stdout"
        }
      ]
    },
    {
      "cell_type": "code",
      "metadata": {
        "colab": {
          "base_uri": "https://localhost:8080/"
        },
        "id": "S3pBt4VMOwB1",
        "outputId": "ee9ea49f-1be7-4a88-8db2-45f7ab35c54e"
      },
      "source": [
        "print(\"wind before change:\", d['wind_direction'])\n",
        "d['wind'] = 'west'\n",
        "print(\"wind after change:\", d['wind_direction'])"
      ],
      "execution_count": 51,
      "outputs": [
        {
          "output_type": "stream",
          "text": [
            "wind before change: east\n",
            "wind after change: east\n"
          ],
          "name": "stdout"
        }
      ]
    },
    {
      "cell_type": "code",
      "metadata": {
        "colab": {
          "base_uri": "https://localhost:8080/"
        },
        "id": "YLf4NFOAOx5e",
        "outputId": "a3110eca-6479-4e05-87fd-3ac338978f38"
      },
      "source": [
        "d = {'site': 'KDOX', 'wind_speed': 20, 'wind_direction': 'east'} \n",
        "print(d)"
      ],
      "execution_count": 52,
      "outputs": [
        {
          "output_type": "stream",
          "text": [
            "{'site': 'KDOX', 'wind_speed': 20, 'wind_direction': 'east'}\n"
          ],
          "name": "stdout"
        }
      ]
    },
    {
      "cell_type": "code",
      "metadata": {
        "colab": {
          "base_uri": "https://localhost:8080/"
        },
        "id": "9-XnwZOhO1Nk",
        "outputId": "df8ee747-d162-494c-9a21-8bdbcc0d5796"
      },
      "source": [
        "del d['wind_direction']\n",
        "print(d)"
      ],
      "execution_count": 53,
      "outputs": [
        {
          "output_type": "stream",
          "text": [
            "{'site': 'KDOX', 'wind_speed': 20}\n"
          ],
          "name": "stdout"
        }
      ]
    },
    {
      "cell_type": "code",
      "metadata": {
        "colab": {
          "base_uri": "https://localhost:8080/"
        },
        "id": "k4mUyoFbO2Xc",
        "outputId": "e7500e46-4c00-4be0-8f12-b97064685247"
      },
      "source": [
        "d['wind_direction']  = 'east'\n",
        "d['wind_speed'] = '10 m/s'\n",
        "print(d)"
      ],
      "execution_count": 54,
      "outputs": [
        {
          "output_type": "stream",
          "text": [
            "{'site': 'KDOX', 'wind_speed': '10 m/s', 'wind_direction': 'east'}\n"
          ],
          "name": "stdout"
        }
      ]
    },
    {
      "cell_type": "markdown",
      "metadata": {
        "id": "fLYrXG_HO55m"
      },
      "source": [
        "##Flow control"
      ]
    },
    {
      "cell_type": "code",
      "metadata": {
        "colab": {
          "base_uri": "https://localhost:8080/"
        },
        "id": "8G0FDX4JO3bx",
        "outputId": "73556173-f91b-4c0d-c39a-1f48b077bca3"
      },
      "source": [
        "hydrometeor = 'rain'\n",
        "if hydrometeor == 'rain':\n",
        "    print(\"You saw rain\")"
      ],
      "execution_count": 55,
      "outputs": [
        {
          "output_type": "stream",
          "text": [
            "You saw rain\n"
          ],
          "name": "stdout"
        }
      ]
    },
    {
      "cell_type": "code",
      "metadata": {
        "colab": {
          "base_uri": "https://localhost:8080/"
        },
        "id": "WOxCWJFqO74k",
        "outputId": "71d30d77-b4b6-422c-dde3-a30267cac0a2"
      },
      "source": [
        "hydrometeor = 'hail'\n",
        "if hydrometeor == 'rain':\n",
        "    print(\"You saw rain\")\n",
        "else:\n",
        "    print(\"You did NOT see rain\")"
      ],
      "execution_count": 56,
      "outputs": [
        {
          "output_type": "stream",
          "text": [
            "You did NOT see rain\n"
          ],
          "name": "stdout"
        }
      ]
    },
    {
      "cell_type": "code",
      "metadata": {
        "colab": {
          "base_uri": "https://localhost:8080/"
        },
        "id": "cppjN4VrO_fd",
        "outputId": "1b9e9e43-e8de-41cb-993a-ebee7a79c825"
      },
      "source": [
        "hydrometeor = 'snow'\n",
        "if hydrometeor == 'rain':\n",
        "    print(\"You saw rain\")\n",
        "elif hydrometeor == 'snow':\n",
        "    print(\"You saw snow\")\n",
        "else:\n",
        "    print(\"I do not know what you saw\")"
      ],
      "execution_count": 57,
      "outputs": [
        {
          "output_type": "stream",
          "text": [
            "You saw snow\n"
          ],
          "name": "stdout"
        }
      ]
    },
    {
      "cell_type": "markdown",
      "metadata": {
        "id": "bTs240zYPLL8"
      },
      "source": [
        "##For Loop\n",
        "\n",
        "for: executes a block of code for all items in an iterable object (string, list, tuple, array, etc.).\n",
        "\n",
        "--\n",
        "\n",
        "\n",
        "For loop syntax:\n",
        "\n",
        "for [variable to iterate] in [sequence]:     [do this code]\n",
        "\n",
        "\n",
        "Reference: https://www.tutorialspoint.com/python3/python_for_loop.htm\n",
        "\n"
      ]
    },
    {
      "cell_type": "code",
      "metadata": {
        "colab": {
          "base_uri": "https://localhost:8080/"
        },
        "id": "ppPuPQ60PC2F",
        "outputId": "b657fc89-9d08-4654-a5d2-e75c6fd7abe1"
      },
      "source": [
        "weather = ['rain', 'snow', 'hail']\n",
        "for hydrometeor in weather:  # loop over elements in a list\n",
        "    print(hydrometeor)"
      ],
      "execution_count": 58,
      "outputs": [
        {
          "output_type": "stream",
          "text": [
            "rain\n",
            "snow\n",
            "hail\n"
          ],
          "name": "stdout"
        }
      ]
    },
    {
      "cell_type": "code",
      "metadata": {
        "colab": {
          "base_uri": "https://localhost:8080/"
        },
        "id": "IjCOi1jVPuCp",
        "outputId": "bde8c1a5-fe11-4044-c2e8-db24c59a73ab"
      },
      "source": [
        "for i in range(5):  # loop over the number 0 to 4\n",
        "    print(i)"
      ],
      "execution_count": 59,
      "outputs": [
        {
          "output_type": "stream",
          "text": [
            "0\n",
            "1\n",
            "2\n",
            "3\n",
            "4\n"
          ],
          "name": "stdout"
        }
      ]
    },
    {
      "cell_type": "code",
      "metadata": {
        "colab": {
          "base_uri": "https://localhost:8080/"
        },
        "id": "a1QMGb5zPyR0",
        "outputId": "dc6bd920-474d-4fcf-91f5-9831d294343d"
      },
      "source": [
        "d = {'site': 'KLOT', 'amount': 20, 'wind': 'east'} \n",
        "for key, value in d.items():\n",
        "    print(key, ':', value)"
      ],
      "execution_count": 60,
      "outputs": [
        {
          "output_type": "stream",
          "text": [
            "site : KLOT\n",
            "amount : 20\n",
            "wind : east\n"
          ],
          "name": "stdout"
        }
      ]
    },
    {
      "cell_type": "markdown",
      "metadata": {
        "id": "xoGBsUcdRtGR"
      },
      "source": [
        "##Libraries\n",
        "* Python has a large number of libraries which extend the basic functionality.\n",
        "* The standard library is included with Python and contains a number of helpful features.\n",
        "* Third-party libraries can add even more powerful functionality!\n",
        "* Libraries must be imported to be used."
      ]
    },
    {
      "cell_type": "code",
      "metadata": {
        "colab": {
          "base_uri": "https://localhost:8080/"
        },
        "id": "pdPefNWQP6CO",
        "outputId": "b89dadda-a504-4c03-926c-bc2f44cc9f9d"
      },
      "source": [
        "import math  # import the entire math module\n",
        "math.sqrt(2)"
      ],
      "execution_count": 66,
      "outputs": [
        {
          "output_type": "execute_result",
          "data": {
            "text/plain": [
              "1.4142135623730951"
            ]
          },
          "metadata": {
            "tags": []
          },
          "execution_count": 66
        }
      ]
    },
    {
      "cell_type": "code",
      "metadata": {
        "colab": {
          "base_uri": "https://localhost:8080/"
        },
        "id": "vNbXsJ7xR6w-",
        "outputId": "447dbc8b-e53d-49ff-8fad-fc86bbcdf9e8"
      },
      "source": [
        "import math as m\n",
        "m.sqrt(2)"
      ],
      "execution_count": 67,
      "outputs": [
        {
          "output_type": "execute_result",
          "data": {
            "text/plain": [
              "1.4142135623730951"
            ]
          },
          "metadata": {
            "tags": []
          },
          "execution_count": 67
        }
      ]
    },
    {
      "cell_type": "code",
      "metadata": {
        "colab": {
          "base_uri": "https://localhost:8080/"
        },
        "id": "5VqgqUbFR8ss",
        "outputId": "3740dbaa-6213-4c2c-a6f5-f5437ce93d6c"
      },
      "source": [
        "from random import randrange   # import just the randrange function from the random module\n",
        "\n",
        "for i in range(5):\n",
        "    print(randrange(1, 10))"
      ],
      "execution_count": 68,
      "outputs": [
        {
          "output_type": "stream",
          "text": [
            "7\n",
            "5\n",
            "1\n",
            "7\n",
            "7\n"
          ],
          "name": "stdout"
        }
      ]
    },
    {
      "cell_type": "markdown",
      "metadata": {
        "id": "5gHIdhzSSIC6"
      },
      "source": [
        "##Functions"
      ]
    },
    {
      "cell_type": "code",
      "metadata": {
        "id": "Oub2sYBuSGlE"
      },
      "source": [
        "# simple\n",
        "def func(arg1):\n",
        "    print(arg1)\n",
        "    return 42"
      ],
      "execution_count": 69,
      "outputs": []
    },
    {
      "cell_type": "code",
      "metadata": {
        "id": "OBKCVaQYSKJV"
      },
      "source": [
        "def add_numbers(number1, number2):\n",
        "    return number1 + number2\n",
        "\n",
        "def say_hello():\n",
        "    print(\"Hello !!\")\n",
        "    \n",
        "def favorite_hydrometeor(name, tvshow='Game of Thrones...well minus the last season'):\n",
        "    print(\"Hello\", name)\n",
        "    print(\"Your favorite tvshow is\", tvshow)"
      ],
      "execution_count": 70,
      "outputs": []
    },
    {
      "cell_type": "code",
      "metadata": {
        "colab": {
          "base_uri": "https://localhost:8080/"
        },
        "id": "Ex8YI9TXSLyG",
        "outputId": "99fdf862-31f7-47e5-e08a-324f91ddca18"
      },
      "source": [
        "# call a function\n",
        "return_value = func(\"Hello World\")\n",
        "print(\"ret_value:\", return_value)"
      ],
      "execution_count": 71,
      "outputs": [
        {
          "output_type": "stream",
          "text": [
            "Hello World\n",
            "ret_value: 42\n"
          ],
          "name": "stdout"
        }
      ]
    },
    {
      "cell_type": "code",
      "metadata": {
        "colab": {
          "base_uri": "https://localhost:8080/"
        },
        "id": "sx0azp7fSNw0",
        "outputId": "dc3c0cfd-601e-4f13-86c9-f93d090227b8"
      },
      "source": [
        "print(add_numbers(1, 2))"
      ],
      "execution_count": 72,
      "outputs": [
        {
          "output_type": "stream",
          "text": [
            "3\n"
          ],
          "name": "stdout"
        }
      ]
    },
    {
      "cell_type": "code",
      "metadata": {
        "colab": {
          "base_uri": "https://localhost:8080/"
        },
        "id": "7U4RUDh9SSH9",
        "outputId": "49424a7f-493a-4759-ac2b-b5c6220d56aa"
      },
      "source": [
        "say_hello()"
      ],
      "execution_count": 73,
      "outputs": [
        {
          "output_type": "stream",
          "text": [
            "Hello !!\n"
          ],
          "name": "stdout"
        }
      ]
    },
    {
      "cell_type": "code",
      "metadata": {
        "colab": {
          "base_uri": "https://localhost:8080/"
        },
        "id": "f7Xc_-YqSTk9",
        "outputId": "1006fbe4-fd10-4019-c74f-f1028c63450f"
      },
      "source": [
        "favorite_hydrometeor(\"Jonathan\")"
      ],
      "execution_count": 74,
      "outputs": [
        {
          "output_type": "stream",
          "text": [
            "Hello Jonathan\n",
            "Your favorite tvshow is Game of Thrones...well minus the last season\n"
          ],
          "name": "stdout"
        }
      ]
    },
    {
      "cell_type": "code",
      "metadata": {
        "colab": {
          "base_uri": "https://localhost:8080/"
        },
        "id": "ahGGVQHRSU28",
        "outputId": "a1e706dc-5a6d-46ed-b440-f507f08915b4"
      },
      "source": [
        "def area(radius):\n",
        "    area = 3.14 * (radius**2)\n",
        "    return area, area*2, area*3, \"\"\n",
        "\n",
        "area(4)"
      ],
      "execution_count": 76,
      "outputs": [
        {
          "output_type": "execute_result",
          "data": {
            "text/plain": [
              "(50.24, 100.48, 150.72, '')"
            ]
          },
          "metadata": {
            "tags": []
          },
          "execution_count": 76
        }
      ]
    },
    {
      "cell_type": "code",
      "metadata": {
        "id": "uY5FiW9NSWPN"
      },
      "source": [
        ""
      ],
      "execution_count": null,
      "outputs": []
    }
  ]
}