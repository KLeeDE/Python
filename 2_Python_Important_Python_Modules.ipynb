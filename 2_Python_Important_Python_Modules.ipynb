{
  "nbformat": 4,
  "nbformat_minor": 0,
  "metadata": {
    "colab": {
      "name": "2_Python_Important_Python_Modules",
      "provenance": [],
      "authorship_tag": "ABX9TyOrURX1ZqwyxXYLUIEpZnbQ",
      "include_colab_link": true
    },
    "kernelspec": {
      "name": "python3",
      "display_name": "Python 3"
    }
  },
  "cells": [
    {
      "cell_type": "markdown",
      "metadata": {
        "id": "view-in-github",
        "colab_type": "text"
      },
      "source": [
        "<a href=\"https://colab.research.google.com/github/KLeeDE/Python/blob/master/2_Python_Important_Python_Modules.ipynb\" target=\"_parent\"><img src=\"https://colab.research.google.com/assets/colab-badge.svg\" alt=\"Open In Colab\"/></a>"
      ]
    },
    {
      "cell_type": "markdown",
      "metadata": {
        "id": "kITTKOVAGdk4"
      },
      "source": [
        "#**GEOG473-673 Python Week2**\n",
        "\n",
        "Class : GEOG673 Select Technical Topics \n",
        "\n",
        "Topic : Important Python Modules\n",
        "\n",
        "Writer : Kyungmin Lee / @KLeeDE\n",
        "\n",
        "Date : Nov 25, 2020"
      ]
    },
    {
      "cell_type": "markdown",
      "metadata": {
        "id": "Xd67kWN1Gzhw"
      },
      "source": [
        "#Tutorial\n",
        "\n",
        "https://github.com/jsimkins2/geog473-673/blob/master/Python/Introduction_to_Numpy.ipynb"
      ]
    },
    {
      "cell_type": "markdown",
      "metadata": {
        "id": "rbBHHf2DTPRF"
      },
      "source": [
        "#NumPy\n",
        "\n",
        "NumPy is the fundamental package for scientific computing with Python. It is short for numerical python.\n",
        "\n",
        "It contains among other things:\n",
        "\n",
        "* a powerful N-dimensional array object\n",
        "* mathematical functions which operate on these arrays\n",
        "* useful linear algebra, Fourier transform, and random number capabilities\n",
        "\n"
      ]
    },
    {
      "cell_type": "code",
      "metadata": {
        "id": "_9cGKJWCGbT7"
      },
      "source": [
        "import numpy as np   # standard import abbreviation"
      ],
      "execution_count": 1,
      "outputs": []
    },
    {
      "cell_type": "code",
      "metadata": {
        "colab": {
          "base_uri": "https://localhost:8080/"
        },
        "id": "k6Znv_mwTuNo",
        "outputId": "89264a41-c58b-42e5-d2ce-7fe554c6ba8f"
      },
      "source": [
        "a = np.array([1, 2, 3])  # a NumPy array of three integers\n",
        "a"
      ],
      "execution_count": 2,
      "outputs": [
        {
          "output_type": "execute_result",
          "data": {
            "text/plain": [
              "array([1, 2, 3])"
            ]
          },
          "metadata": {
            "tags": []
          },
          "execution_count": 2
        }
      ]
    },
    {
      "cell_type": "code",
      "metadata": {
        "colab": {
          "base_uri": "https://localhost:8080/"
        },
        "id": "bcl1yNbTTvqe",
        "outputId": "90e70afe-fde6-4435-8355-472ab11d1a8d"
      },
      "source": [
        "a.shape  # tuple representing the size of each dimension"
      ],
      "execution_count": 3,
      "outputs": [
        {
          "output_type": "execute_result",
          "data": {
            "text/plain": [
              "(3,)"
            ]
          },
          "metadata": {
            "tags": []
          },
          "execution_count": 3
        }
      ]
    },
    {
      "cell_type": "code",
      "metadata": {
        "colab": {
          "base_uri": "https://localhost:8080/"
        },
        "id": "ve2FJhRgTxh0",
        "outputId": "b6d7f22d-8edb-40e9-8393-2c4147d9f925"
      },
      "source": [
        "a.ndim  # number of dimensions"
      ],
      "execution_count": 4,
      "outputs": [
        {
          "output_type": "execute_result",
          "data": {
            "text/plain": [
              "1"
            ]
          },
          "metadata": {
            "tags": []
          },
          "execution_count": 4
        }
      ]
    },
    {
      "cell_type": "code",
      "metadata": {
        "colab": {
          "base_uri": "https://localhost:8080/"
        },
        "id": "a-lM0UkYTyxs",
        "outputId": "7d277161-423a-4a97-8f04-e0faa0a5f9a0"
      },
      "source": [
        "a.dtype  # Data type information"
      ],
      "execution_count": 5,
      "outputs": [
        {
          "output_type": "execute_result",
          "data": {
            "text/plain": [
              "dtype('int64')"
            ]
          },
          "metadata": {
            "tags": []
          },
          "execution_count": 5
        }
      ]
    },
    {
      "cell_type": "code",
      "metadata": {
        "id": "GnPImwelT16s"
      },
      "source": [
        "b = np.array([1., 2., 3., 4.])  # a NumPy array of four floats"
      ],
      "execution_count": 6,
      "outputs": []
    },
    {
      "cell_type": "code",
      "metadata": {
        "colab": {
          "base_uri": "https://localhost:8080/"
        },
        "id": "iAaRoMk8T3rk",
        "outputId": "a33bd811-59be-465d-fb3e-d17bebca5e7a"
      },
      "source": [
        "b.shape"
      ],
      "execution_count": 7,
      "outputs": [
        {
          "output_type": "execute_result",
          "data": {
            "text/plain": [
              "(4,)"
            ]
          },
          "metadata": {
            "tags": []
          },
          "execution_count": 7
        }
      ]
    },
    {
      "cell_type": "code",
      "metadata": {
        "colab": {
          "base_uri": "https://localhost:8080/"
        },
        "id": "-yH1AYH_T6uc",
        "outputId": "1f8338ef-3121-4a7f-9982-65f372dad44b"
      },
      "source": [
        "b.dtype"
      ],
      "execution_count": 9,
      "outputs": [
        {
          "output_type": "execute_result",
          "data": {
            "text/plain": [
              "dtype('float64')"
            ]
          },
          "metadata": {
            "tags": []
          },
          "execution_count": 9
        }
      ]
    },
    {
      "cell_type": "code",
      "metadata": {
        "colab": {
          "base_uri": "https://localhost:8080/"
        },
        "id": "b3eWrgreT7BU",
        "outputId": "032f6e5a-7541-4570-f19e-c0527f82f636"
      },
      "source": [
        "a = np.arange(10)  # a range of values from (0) to 10\n",
        "print(a)"
      ],
      "execution_count": 10,
      "outputs": [
        {
          "output_type": "stream",
          "text": [
            "[0 1 2 3 4 5 6 7 8 9]\n"
          ],
          "name": "stdout"
        }
      ]
    },
    {
      "cell_type": "code",
      "metadata": {
        "colab": {
          "base_uri": "https://localhost:8080/"
        },
        "id": "elcw_msYT9cM",
        "outputId": "6344d6cb-9cfd-4071-ed15-3621be286b96"
      },
      "source": [
        "a = np.arange(1, 10, 2, dtype='float32')\n",
        "print(a)\n",
        "print(a.dtype)"
      ],
      "execution_count": 11,
      "outputs": [
        {
          "output_type": "stream",
          "text": [
            "[1. 3. 5. 7. 9.]\n",
            "float32\n"
          ],
          "name": "stdout"
        }
      ]
    },
    {
      "cell_type": "code",
      "metadata": {
        "colab": {
          "base_uri": "https://localhost:8080/"
        },
        "id": "7OsezYcvT-pU",
        "outputId": "41f963f4-767a-49de-daa6-51cf46ba5afd"
      },
      "source": [
        "a = np.linspace(0, 10, 5)  # 5 linearly spaced entries from 0 to 10 \n",
        "print(a)"
      ],
      "execution_count": 12,
      "outputs": [
        {
          "output_type": "stream",
          "text": [
            "[ 0.   2.5  5.   7.5 10. ]\n"
          ],
          "name": "stdout"
        }
      ]
    },
    {
      "cell_type": "code",
      "metadata": {
        "colab": {
          "base_uri": "https://localhost:8080/"
        },
        "id": "nkTznF-jUAt8",
        "outputId": "4a2cfecc-a137-44ab-ea8f-dd5edea49e42"
      },
      "source": [
        "# Convert degrees to radians\n",
        "np.radians(90)"
      ],
      "execution_count": 13,
      "outputs": [
        {
          "output_type": "execute_result",
          "data": {
            "text/plain": [
              "1.5707963267948966"
            ]
          },
          "metadata": {
            "tags": []
          },
          "execution_count": 13
        }
      ]
    },
    {
      "cell_type": "code",
      "metadata": {
        "colab": {
          "base_uri": "https://localhost:8080/"
        },
        "id": "5XJzVNcqUB5L",
        "outputId": "c9dffd64-8f6f-4ca7-d2b3-e2fbc3cbc4a7"
      },
      "source": [
        "# Conver radians to degrees\n",
        "np.degrees(1.5707963267948966)"
      ],
      "execution_count": 14,
      "outputs": [
        {
          "output_type": "execute_result",
          "data": {
            "text/plain": [
              "90.0"
            ]
          },
          "metadata": {
            "tags": []
          },
          "execution_count": 14
        }
      ]
    },
    {
      "cell_type": "code",
      "metadata": {
        "colab": {
          "base_uri": "https://localhost:8080/"
        },
        "id": "qH2WWLp7UDXr",
        "outputId": "e645688f-eb86-44ca-fed1-c6c1622b94a0"
      },
      "source": [
        "# Special \"not a number\" value\n",
        "np.nan"
      ],
      "execution_count": 15,
      "outputs": [
        {
          "output_type": "execute_result",
          "data": {
            "text/plain": [
              "nan"
            ]
          },
          "metadata": {
            "tags": []
          },
          "execution_count": 15
        }
      ]
    },
    {
      "cell_type": "markdown",
      "metadata": {
        "id": "hib3uCSSUMZ8"
      },
      "source": [
        "##Exercise\n",
        "\n",
        "1) Convert the following degree list to radians using a for loop.\n",
        "\n",
        "deg_list = [15,36,45,88,90]\n",
        "\n",
        "rad_list = ?\n"
      ]
    },
    {
      "cell_type": "markdown",
      "metadata": {
        "id": "A_qxE3sxULQb"
      },
      "source": [
        "###Array operations"
      ]
    },
    {
      "cell_type": "code",
      "metadata": {
        "colab": {
          "base_uri": "https://localhost:8080/"
        },
        "id": "vLxLm0twUE5D",
        "outputId": "13c0d2ab-c40e-43d0-c81f-20883c748e11"
      },
      "source": [
        "a = np.array([1, 2, 3])\n",
        "b = np.array([6, 7, 8])\n",
        "a + b"
      ],
      "execution_count": 21,
      "outputs": [
        {
          "output_type": "execute_result",
          "data": {
            "text/plain": [
              "array([ 7,  9, 11])"
            ]
          },
          "metadata": {
            "tags": []
          },
          "execution_count": 21
        }
      ]
    },
    {
      "cell_type": "code",
      "metadata": {
        "colab": {
          "base_uri": "https://localhost:8080/"
        },
        "id": "VisDndpCUc2b",
        "outputId": "2fa571f7-7cf3-4611-8f2b-76fbb7e7091b"
      },
      "source": [
        "print(a+b)"
      ],
      "execution_count": 22,
      "outputs": [
        {
          "output_type": "stream",
          "text": [
            "[ 7  9 11]\n"
          ],
          "name": "stdout"
        }
      ]
    },
    {
      "cell_type": "code",
      "metadata": {
        "colab": {
          "base_uri": "https://localhost:8080/"
        },
        "id": "eSvirfS1URhL",
        "outputId": "d394a18c-466a-48c8-b7b9-52fd00a2f415"
      },
      "source": [
        "a * b"
      ],
      "execution_count": 17,
      "outputs": [
        {
          "output_type": "execute_result",
          "data": {
            "text/plain": [
              "array([ 6, 14, 24])"
            ]
          },
          "metadata": {
            "tags": []
          },
          "execution_count": 17
        }
      ]
    },
    {
      "cell_type": "code",
      "metadata": {
        "colab": {
          "base_uri": "https://localhost:8080/"
        },
        "id": "n4uPBKLxUTBU",
        "outputId": "cc520480-7ae0-450c-ae72-7f0468f18596"
      },
      "source": [
        "a = [1, 2, 3]\n",
        "b = [6, 7, 8]\n",
        "\n",
        "a + b"
      ],
      "execution_count": 23,
      "outputs": [
        {
          "output_type": "execute_result",
          "data": {
            "text/plain": [
              "[1, 2, 3, 6, 7, 8]"
            ]
          },
          "metadata": {
            "tags": []
          },
          "execution_count": 23
        }
      ]
    },
    {
      "cell_type": "code",
      "metadata": {
        "colab": {
          "base_uri": "https://localhost:8080/"
        },
        "id": "RtdtDxr4UU9j",
        "outputId": "7d9c5ff3-4257-40fe-ede9-d47ead3968dd"
      },
      "source": [
        "print(a+b)"
      ],
      "execution_count": 24,
      "outputs": [
        {
          "output_type": "stream",
          "text": [
            "[1, 2, 3, 6, 7, 8]\n"
          ],
          "name": "stdout"
        }
      ]
    },
    {
      "cell_type": "code",
      "metadata": {
        "colab": {
          "base_uri": "https://localhost:8080/",
          "height": 166
        },
        "id": "8TcgShnQUXoD",
        "outputId": "962f4619-e43b-4c69-dc60-7eb88696ec2c"
      },
      "source": [
        "a * b"
      ],
      "execution_count": 25,
      "outputs": [
        {
          "output_type": "error",
          "ename": "TypeError",
          "evalue": "ignored",
          "traceback": [
            "\u001b[0;31m---------------------------------------------------------------------------\u001b[0m",
            "\u001b[0;31mTypeError\u001b[0m                                 Traceback (most recent call last)",
            "\u001b[0;32m<ipython-input-25-9bc1a869709f>\u001b[0m in \u001b[0;36m<module>\u001b[0;34m()\u001b[0m\n\u001b[0;32m----> 1\u001b[0;31m \u001b[0ma\u001b[0m \u001b[0;34m*\u001b[0m \u001b[0mb\u001b[0m\u001b[0;34m\u001b[0m\u001b[0;34m\u001b[0m\u001b[0m\n\u001b[0m",
            "\u001b[0;31mTypeError\u001b[0m: can't multiply sequence by non-int of type 'list'"
          ]
        }
      ]
    },
    {
      "cell_type": "code",
      "metadata": {
        "colab": {
          "base_uri": "https://localhost:8080/"
        },
        "id": "sDJ3GTHsUidw",
        "outputId": "371ec8c5-2b09-4d07-d707-93393545210c"
      },
      "source": [
        "# -- if we want to add lists the same way we just did with arrays, here is how you would do that\n",
        "c = [i+j for i, j in zip(a, b)]\n",
        "print(c)"
      ],
      "execution_count": 26,
      "outputs": [
        {
          "output_type": "stream",
          "text": [
            "[7, 9, 11]\n"
          ],
          "name": "stdout"
        }
      ]
    },
    {
      "cell_type": "code",
      "metadata": {
        "colab": {
          "base_uri": "https://localhost:8080/"
        },
        "id": "6IdVeVvIUqPM",
        "outputId": "dfe58bfc-5172-4caf-be0c-43c282fa5dbc"
      },
      "source": [
        "a = np.linspace(-np.pi, np.pi, 10)# Return evenly spaced numbers over a specified interval.\n",
        "a"
      ],
      "execution_count": 27,
      "outputs": [
        {
          "output_type": "execute_result",
          "data": {
            "text/plain": [
              "array([-3.14159265, -2.44346095, -1.74532925, -1.04719755, -0.34906585,\n",
              "        0.34906585,  1.04719755,  1.74532925,  2.44346095,  3.14159265])"
            ]
          },
          "metadata": {
            "tags": []
          },
          "execution_count": 27
        }
      ]
    },
    {
      "cell_type": "code",
      "metadata": {
        "colab": {
          "base_uri": "https://localhost:8080/"
        },
        "id": "Lo_qyTUyUsLU",
        "outputId": "899db807-ca47-48cb-cb1d-376a084e0ec8"
      },
      "source": [
        "np.sin(a)"
      ],
      "execution_count": 28,
      "outputs": [
        {
          "output_type": "execute_result",
          "data": {
            "text/plain": [
              "array([-1.22464680e-16, -6.42787610e-01, -9.84807753e-01, -8.66025404e-01,\n",
              "       -3.42020143e-01,  3.42020143e-01,  8.66025404e-01,  9.84807753e-01,\n",
              "        6.42787610e-01,  1.22464680e-16])"
            ]
          },
          "metadata": {
            "tags": []
          },
          "execution_count": 28
        }
      ]
    },
    {
      "cell_type": "code",
      "metadata": {
        "colab": {
          "base_uri": "https://localhost:8080/"
        },
        "id": "NcijbxXkUtpL",
        "outputId": "811db298-db07-4b11-dcff-0ade760feff6"
      },
      "source": [
        "np.cos(a)"
      ],
      "execution_count": 29,
      "outputs": [
        {
          "output_type": "execute_result",
          "data": {
            "text/plain": [
              "array([-1.        , -0.76604444, -0.17364818,  0.5       ,  0.93969262,\n",
              "        0.93969262,  0.5       , -0.17364818, -0.76604444, -1.        ])"
            ]
          },
          "metadata": {
            "tags": []
          },
          "execution_count": 29
        }
      ]
    },
    {
      "cell_type": "markdown",
      "metadata": {
        "id": "S21drirUUwst"
      },
      "source": [
        "## Multiple dimensions"
      ]
    },
    {
      "cell_type": "code",
      "metadata": {
        "colab": {
          "base_uri": "https://localhost:8080/"
        },
        "id": "sucsVitDUu00",
        "outputId": "a2d482af-a67d-4422-f398-22b0e4529852"
      },
      "source": [
        "a = np.arange(12).reshape(3, 4)  # create a 2 dimensional array with dimensions of 3 and 4\n",
        "print(a)"
      ],
      "execution_count": 30,
      "outputs": [
        {
          "output_type": "stream",
          "text": [
            "[[ 0  1  2  3]\n",
            " [ 4  5  6  7]\n",
            " [ 8  9 10 11]]\n"
          ],
          "name": "stdout"
        }
      ]
    },
    {
      "cell_type": "code",
      "metadata": {
        "colab": {
          "base_uri": "https://localhost:8080/"
        },
        "id": "VVBYDwJfUzpz",
        "outputId": "91cc4a72-b0e2-4066-cfbb-cbb19a33bbd8"
      },
      "source": [
        "a.ndim # find the number of dimensions of array a"
      ],
      "execution_count": 31,
      "outputs": [
        {
          "output_type": "execute_result",
          "data": {
            "text/plain": [
              "2"
            ]
          },
          "metadata": {
            "tags": []
          },
          "execution_count": 31
        }
      ]
    },
    {
      "cell_type": "code",
      "metadata": {
        "colab": {
          "base_uri": "https://localhost:8080/"
        },
        "id": "7mvquGOLU10r",
        "outputId": "1e344a26-118f-4484-d9f5-89c06352a7d2"
      },
      "source": [
        "a.shape # find the shape of array a"
      ],
      "execution_count": 32,
      "outputs": [
        {
          "output_type": "execute_result",
          "data": {
            "text/plain": [
              "(3, 4)"
            ]
          },
          "metadata": {
            "tags": []
          },
          "execution_count": 32
        }
      ]
    },
    {
      "cell_type": "code",
      "metadata": {
        "colab": {
          "base_uri": "https://localhost:8080/"
        },
        "id": "bUX5Yv27U5EU",
        "outputId": "773dff3b-8564-49d7-c04d-bec0f56a1a7f"
      },
      "source": [
        "2 * a"
      ],
      "execution_count": 33,
      "outputs": [
        {
          "output_type": "execute_result",
          "data": {
            "text/plain": [
              "array([[ 0,  2,  4,  6],\n",
              "       [ 8, 10, 12, 14],\n",
              "       [16, 18, 20, 22]])"
            ]
          },
          "metadata": {
            "tags": []
          },
          "execution_count": 33
        }
      ]
    },
    {
      "cell_type": "markdown",
      "metadata": {
        "id": "jag92b3oU8I5"
      },
      "source": [
        "##Indexing and Slicing"
      ]
    },
    {
      "cell_type": "code",
      "metadata": {
        "colab": {
          "base_uri": "https://localhost:8080/"
        },
        "id": "qEVVQGPHVB6B",
        "outputId": "6aacaecf-eb3c-4380-a0ff-14a5254925ae"
      },
      "source": [
        "np.arange(10)"
      ],
      "execution_count": 36,
      "outputs": [
        {
          "output_type": "execute_result",
          "data": {
            "text/plain": [
              "array([0, 1, 2, 3, 4, 5, 6, 7, 8, 9])"
            ]
          },
          "metadata": {
            "tags": []
          },
          "execution_count": 36
        }
      ]
    },
    {
      "cell_type": "code",
      "metadata": {
        "colab": {
          "base_uri": "https://localhost:8080/"
        },
        "id": "Uoiq3a4uU6J4",
        "outputId": "5de01f9d-854e-4586-985f-6575bc7fcbb1"
      },
      "source": [
        "a = np.arange(10)\n",
        "a[3]"
      ],
      "execution_count": 34,
      "outputs": [
        {
          "output_type": "execute_result",
          "data": {
            "text/plain": [
              "3"
            ]
          },
          "metadata": {
            "tags": []
          },
          "execution_count": 34
        }
      ]
    },
    {
      "cell_type": "code",
      "metadata": {
        "colab": {
          "base_uri": "https://localhost:8080/"
        },
        "id": "w3ttQR75U-4z",
        "outputId": "6d48f8f3-1a1a-4de8-d402-04305ef8fddf"
      },
      "source": [
        "a[2:-2]"
      ],
      "execution_count": 35,
      "outputs": [
        {
          "output_type": "execute_result",
          "data": {
            "text/plain": [
              "array([2, 3, 4, 5, 6, 7])"
            ]
          },
          "metadata": {
            "tags": []
          },
          "execution_count": 35
        }
      ]
    },
    {
      "cell_type": "code",
      "metadata": {
        "colab": {
          "base_uri": "https://localhost:8080/"
        },
        "id": "zfktVlKNVAQM",
        "outputId": "fe03539b-2528-4036-e076-317e3edcf4af"
      },
      "source": [
        "a[1::2]"
      ],
      "execution_count": 37,
      "outputs": [
        {
          "output_type": "execute_result",
          "data": {
            "text/plain": [
              "array([1, 3, 5, 7, 9])"
            ]
          },
          "metadata": {
            "tags": []
          },
          "execution_count": 37
        }
      ]
    },
    {
      "cell_type": "code",
      "metadata": {
        "colab": {
          "base_uri": "https://localhost:8080/"
        },
        "id": "WeoYHNk6VDic",
        "outputId": "b6aefafa-95dc-4cf4-c8d0-113d990d58d5"
      },
      "source": [
        "b = np.arange(12).reshape(3, 4)\n",
        "print(b)"
      ],
      "execution_count": 38,
      "outputs": [
        {
          "output_type": "stream",
          "text": [
            "[[ 0  1  2  3]\n",
            " [ 4  5  6  7]\n",
            " [ 8  9 10 11]]\n"
          ],
          "name": "stdout"
        }
      ]
    },
    {
      "cell_type": "code",
      "metadata": {
        "colab": {
          "base_uri": "https://localhost:8080/"
        },
        "id": "CxpXM9KZVPwj",
        "outputId": "00286f72-dc13-4222-e279-6d22ac8717ea"
      },
      "source": [
        "b[1, 2]"
      ],
      "execution_count": 39,
      "outputs": [
        {
          "output_type": "execute_result",
          "data": {
            "text/plain": [
              "6"
            ]
          },
          "metadata": {
            "tags": []
          },
          "execution_count": 39
        }
      ]
    },
    {
      "cell_type": "code",
      "metadata": {
        "colab": {
          "base_uri": "https://localhost:8080/"
        },
        "id": "ivDLWPchVReu",
        "outputId": "4acfde36-5e22-4cfd-bf35-0a27e10be455"
      },
      "source": [
        "b[2]  # select the entire second dimension"
      ],
      "execution_count": 40,
      "outputs": [
        {
          "output_type": "execute_result",
          "data": {
            "text/plain": [
              "array([ 8,  9, 10, 11])"
            ]
          },
          "metadata": {
            "tags": []
          },
          "execution_count": 40
        }
      ]
    },
    {
      "cell_type": "code",
      "metadata": {
        "colab": {
          "base_uri": "https://localhost:8080/"
        },
        "id": "B1hamX1pVUij",
        "outputId": "3b3bcf64-fda3-4414-f2a6-497e8827c6aa"
      },
      "source": [
        "b[1:3, :3]  # slices are also allowed"
      ],
      "execution_count": 41,
      "outputs": [
        {
          "output_type": "execute_result",
          "data": {
            "text/plain": [
              "array([[ 4,  5,  6],\n",
              "       [ 8,  9, 10]])"
            ]
          },
          "metadata": {
            "tags": []
          },
          "execution_count": 41
        }
      ]
    },
    {
      "cell_type": "code",
      "metadata": {
        "colab": {
          "base_uri": "https://localhost:8080/"
        },
        "id": "GOicw6YvVXkj",
        "outputId": "e66a954c-5d26-4228-baef-4e8ec41dda80"
      },
      "source": [
        "b[:, 2]  # all elements in the first dimension"
      ],
      "execution_count": 42,
      "outputs": [
        {
          "output_type": "execute_result",
          "data": {
            "text/plain": [
              "array([ 2,  6, 10])"
            ]
          },
          "metadata": {
            "tags": []
          },
          "execution_count": 42
        }
      ]
    },
    {
      "cell_type": "code",
      "metadata": {
        "colab": {
          "base_uri": "https://localhost:8080/"
        },
        "id": "6isS7CuaVazj",
        "outputId": "6f68cda2-00f9-49c1-b012-6db75b2fe7f7"
      },
      "source": [
        "# ... (ellipsis) will replace one or more dimensions\n",
        "b[..., 2]"
      ],
      "execution_count": 43,
      "outputs": [
        {
          "output_type": "execute_result",
          "data": {
            "text/plain": [
              "array([ 2,  6, 10])"
            ]
          },
          "metadata": {
            "tags": []
          },
          "execution_count": 43
        }
      ]
    },
    {
      "cell_type": "markdown",
      "metadata": {
        "id": "HDvR35cAVhcT"
      },
      "source": [
        "#**Exercises**\n",
        "2) Create a null vector (1-d array) of size 10\n",
        "\n",
        "3) Create a null vector (1-d array) of size 10 but with the fifth value being 1\n",
        "\n",
        "4) Create a vector with values ranging from 10 to 49\n",
        "\n",
        "5) Reverse a vector (first element becomes the last)"
      ]
    },
    {
      "cell_type": "markdown",
      "metadata": {
        "id": "nUxfmMUUVm3W"
      },
      "source": [
        "##Logical Indexing"
      ]
    },
    {
      "cell_type": "code",
      "metadata": {
        "id": "GZ1iJK-HVehL"
      },
      "source": [
        "a = np.arange(5)"
      ],
      "execution_count": 44,
      "outputs": []
    },
    {
      "cell_type": "code",
      "metadata": {
        "colab": {
          "base_uri": "https://localhost:8080/"
        },
        "id": "eGHg2VsEVuub",
        "outputId": "0397a149-53e5-4294-c049-b31de06d5c5c"
      },
      "source": [
        "selection = np.array([True, False, False, True, True])\n",
        "a[selection]"
      ],
      "execution_count": 45,
      "outputs": [
        {
          "output_type": "execute_result",
          "data": {
            "text/plain": [
              "array([0, 3, 4])"
            ]
          },
          "metadata": {
            "tags": []
          },
          "execution_count": 45
        }
      ]
    },
    {
      "cell_type": "code",
      "metadata": {
        "colab": {
          "base_uri": "https://localhost:8080/"
        },
        "id": "GVFFcoiYVwF1",
        "outputId": "3d0b960b-31bc-4a1e-8768-a55b11bcc924"
      },
      "source": [
        "a[a>2]"
      ],
      "execution_count": 46,
      "outputs": [
        {
          "output_type": "execute_result",
          "data": {
            "text/plain": [
              "array([3, 4])"
            ]
          },
          "metadata": {
            "tags": []
          },
          "execution_count": 46
        }
      ]
    },
    {
      "cell_type": "markdown",
      "metadata": {
        "id": "6OD0EShGV3Vp"
      },
      "source": [
        "##Masked arrays\n",
        "\n",
        "\n",
        "Masked arrays are a specialization of NumPy arrays to handle flagging elements that should be ignored. This allows for the elimination of values from computations.\n",
        "\n",
        "This is great for ignoring bad values but keeping the shape of the array you want.\n",
        "\n"
      ]
    },
    {
      "cell_type": "code",
      "metadata": {
        "colab": {
          "base_uri": "https://localhost:8080/"
        },
        "id": "L5KQAm88VxIr",
        "outputId": "ac701d32-bb62-439c-fc7b-2844ee663722"
      },
      "source": [
        "\n",
        "a = np.ma.arange(12).reshape(3, 4)\n",
        "print(a)"
      ],
      "execution_count": 47,
      "outputs": [
        {
          "output_type": "stream",
          "text": [
            "[[ 0  1  2  3]\n",
            " [ 4  5  6  7]\n",
            " [ 8  9 10 11]]\n"
          ],
          "name": "stdout"
        }
      ]
    },
    {
      "cell_type": "code",
      "metadata": {
        "colab": {
          "base_uri": "https://localhost:8080/"
        },
        "id": "6P9dGPeuV6hj",
        "outputId": "971ddaac-3038-4a55-915a-1ddcfcce85cf"
      },
      "source": [
        "a[2,2] = np.ma.masked\n",
        "print(a)"
      ],
      "execution_count": 48,
      "outputs": [
        {
          "output_type": "stream",
          "text": [
            "[[0 1 2 3]\n",
            " [4 5 6 7]\n",
            " [8 9 -- 11]]\n"
          ],
          "name": "stdout"
        }
      ]
    },
    {
      "cell_type": "code",
      "metadata": {
        "colab": {
          "base_uri": "https://localhost:8080/"
        },
        "id": "koRmEt2MWIV0",
        "outputId": "fe5c90ac-d9fd-46a4-cf59-39553b53bef3"
      },
      "source": [
        "b = a * 2\n",
        "print(b)"
      ],
      "execution_count": 49,
      "outputs": [
        {
          "output_type": "stream",
          "text": [
            "[[0 2 4 6]\n",
            " [8 10 12 14]\n",
            " [16 18 -- 22]]\n"
          ],
          "name": "stdout"
        }
      ]
    },
    {
      "cell_type": "code",
      "metadata": {
        "colab": {
          "base_uri": "https://localhost:8080/"
        },
        "id": "kEB-YhQ4WLA7",
        "outputId": "acf95c5d-625a-40be-9836-58e887bf82af"
      },
      "source": [
        "# logical masking\n",
        "a[a > 6] = np.ma.masked\n",
        "print(a)"
      ],
      "execution_count": 50,
      "outputs": [
        {
          "output_type": "stream",
          "text": [
            "[[0 1 2 3]\n",
            " [4 5 6 --]\n",
            " [-- -- -- --]]\n"
          ],
          "name": "stdout"
        }
      ]
    },
    {
      "cell_type": "code",
      "metadata": {
        "colab": {
          "base_uri": "https://localhost:8080/"
        },
        "id": "nDy6x64uWM87",
        "outputId": "17918e91-26b0-4139-be18-370d6abd3a83"
      },
      "source": [
        "# unmasked an element\n",
        "a[-1, -1] = 42\n",
        "print(a)"
      ],
      "execution_count": 51,
      "outputs": [
        {
          "output_type": "stream",
          "text": [
            "[[0 1 2 3]\n",
            " [4 5 6 --]\n",
            " [-- -- -- 42]]\n"
          ],
          "name": "stdout"
        }
      ]
    },
    {
      "cell_type": "markdown",
      "metadata": {
        "id": "17Z1HEg8WQqz"
      },
      "source": [
        "#**Exercises**\n",
        "\n",
        "6) Create a 3x3 matrix with values ranging from 0 to 8. Multiply by 2.\n",
        "\n",
        "7) Mask the all values less than 3 in the matrix formed above.\n",
        "\n",
        "8) Given the list of l=[-.7, -1.5, 14, 0.3, 1, 1.8, 5] , convert to array and mask all values greater than 1."
      ]
    },
    {
      "cell_type": "code",
      "metadata": {
        "id": "JG3ILG2tWPAk"
      },
      "source": [
        ""
      ],
      "execution_count": null,
      "outputs": []
    }
  ]
}