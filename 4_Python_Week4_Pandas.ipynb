{
  "nbformat": 4,
  "nbformat_minor": 0,
  "metadata": {
    "colab": {
      "name": "4_Python_Week4_Pandas.ipynb",
      "provenance": [],
      "authorship_tag": "ABX9TyPwQHkjl2z8lLaTjZ/xnFAr",
      "include_colab_link": true
    },
    "kernelspec": {
      "name": "python3",
      "display_name": "Python 3"
    }
  },
  "cells": [
    {
      "cell_type": "markdown",
      "metadata": {
        "id": "view-in-github",
        "colab_type": "text"
      },
      "source": [
        "<a href=\"https://colab.research.google.com/github/KLeeDE/Python/blob/master/4_Python_Week4_Pandas.ipynb\" target=\"_parent\"><img src=\"https://colab.research.google.com/assets/colab-badge.svg\" alt=\"Open In Colab\"/></a>"
      ]
    },
    {
      "cell_type": "markdown",
      "metadata": {
        "id": "2a_F-c-nJyEC"
      },
      "source": [
        "#Tutorial\n",
        "\n",
        "https://github.com/jsimkins2/geog473-673/blob/master/Python/Pandas_tutorial.ipynb\n"
      ]
    },
    {
      "cell_type": "code",
      "metadata": {
        "id": "n4xggra1KAwy"
      },
      "source": [
        "import pandas as pd\n",
        "import matplotlib.pyplot as plt\n",
        "orders = pd.read_table('http://bit.ly/chiporders')"
      ],
      "execution_count": 1,
      "outputs": []
    },
    {
      "cell_type": "code",
      "metadata": {
        "colab": {
          "base_uri": "https://localhost:8080/"
        },
        "id": "BY6idvPsKUNz",
        "outputId": "55a29359-cb38-4969-8051-32f49ebb6e1f"
      },
      "source": [
        "type(orders)"
      ],
      "execution_count": 2,
      "outputs": [
        {
          "output_type": "execute_result",
          "data": {
            "text/plain": [
              "pandas.core.frame.DataFrame"
            ]
          },
          "metadata": {
            "tags": []
          },
          "execution_count": 2
        }
      ]
    },
    {
      "cell_type": "code",
      "metadata": {
        "colab": {
          "base_uri": "https://localhost:8080/",
          "height": 195
        },
        "id": "ygvOczlYKWaU",
        "outputId": "56a3e32b-784f-4e87-c199-217d975480a6"
      },
      "source": [
        "orders.head()"
      ],
      "execution_count": 3,
      "outputs": [
        {
          "output_type": "execute_result",
          "data": {
            "text/html": [
              "<div>\n",
              "<style scoped>\n",
              "    .dataframe tbody tr th:only-of-type {\n",
              "        vertical-align: middle;\n",
              "    }\n",
              "\n",
              "    .dataframe tbody tr th {\n",
              "        vertical-align: top;\n",
              "    }\n",
              "\n",
              "    .dataframe thead th {\n",
              "        text-align: right;\n",
              "    }\n",
              "</style>\n",
              "<table border=\"1\" class=\"dataframe\">\n",
              "  <thead>\n",
              "    <tr style=\"text-align: right;\">\n",
              "      <th></th>\n",
              "      <th>order_id</th>\n",
              "      <th>quantity</th>\n",
              "      <th>item_name</th>\n",
              "      <th>choice_description</th>\n",
              "      <th>item_price</th>\n",
              "    </tr>\n",
              "  </thead>\n",
              "  <tbody>\n",
              "    <tr>\n",
              "      <th>0</th>\n",
              "      <td>1</td>\n",
              "      <td>1</td>\n",
              "      <td>Chips and Fresh Tomato Salsa</td>\n",
              "      <td>NaN</td>\n",
              "      <td>$2.39</td>\n",
              "    </tr>\n",
              "    <tr>\n",
              "      <th>1</th>\n",
              "      <td>1</td>\n",
              "      <td>1</td>\n",
              "      <td>Izze</td>\n",
              "      <td>[Clementine]</td>\n",
              "      <td>$3.39</td>\n",
              "    </tr>\n",
              "    <tr>\n",
              "      <th>2</th>\n",
              "      <td>1</td>\n",
              "      <td>1</td>\n",
              "      <td>Nantucket Nectar</td>\n",
              "      <td>[Apple]</td>\n",
              "      <td>$3.39</td>\n",
              "    </tr>\n",
              "    <tr>\n",
              "      <th>3</th>\n",
              "      <td>1</td>\n",
              "      <td>1</td>\n",
              "      <td>Chips and Tomatillo-Green Chili Salsa</td>\n",
              "      <td>NaN</td>\n",
              "      <td>$2.39</td>\n",
              "    </tr>\n",
              "    <tr>\n",
              "      <th>4</th>\n",
              "      <td>2</td>\n",
              "      <td>2</td>\n",
              "      <td>Chicken Bowl</td>\n",
              "      <td>[Tomatillo-Red Chili Salsa (Hot), [Black Beans...</td>\n",
              "      <td>$16.98</td>\n",
              "    </tr>\n",
              "  </tbody>\n",
              "</table>\n",
              "</div>"
            ],
            "text/plain": [
              "   order_id  ...  item_price\n",
              "0         1  ...      $2.39 \n",
              "1         1  ...      $3.39 \n",
              "2         1  ...      $3.39 \n",
              "3         1  ...      $2.39 \n",
              "4         2  ...     $16.98 \n",
              "\n",
              "[5 rows x 5 columns]"
            ]
          },
          "metadata": {
            "tags": []
          },
          "execution_count": 3
        }
      ]
    },
    {
      "cell_type": "code",
      "metadata": {
        "colab": {
          "base_uri": "https://localhost:8080/"
        },
        "id": "L653V10GKcYM",
        "outputId": "06a259af-8d2d-4174-c333-a329ff4a9dd9"
      },
      "source": [
        "orders['item_name'][0:5]"
      ],
      "execution_count": 4,
      "outputs": [
        {
          "output_type": "execute_result",
          "data": {
            "text/plain": [
              "0             Chips and Fresh Tomato Salsa\n",
              "1                                     Izze\n",
              "2                         Nantucket Nectar\n",
              "3    Chips and Tomatillo-Green Chili Salsa\n",
              "4                             Chicken Bowl\n",
              "Name: item_name, dtype: object"
            ]
          },
          "metadata": {
            "tags": []
          },
          "execution_count": 4
        }
      ]
    },
    {
      "cell_type": "code",
      "metadata": {
        "colab": {
          "base_uri": "https://localhost:8080/"
        },
        "id": "rtuiiySRKjh9",
        "outputId": "ddf6b732-1e90-405a-ce4e-ef6b015e3676"
      },
      "source": [
        "orders.item_name[0:5]"
      ],
      "execution_count": 5,
      "outputs": [
        {
          "output_type": "execute_result",
          "data": {
            "text/plain": [
              "0             Chips and Fresh Tomato Salsa\n",
              "1                                     Izze\n",
              "2                         Nantucket Nectar\n",
              "3    Chips and Tomatillo-Green Chili Salsa\n",
              "4                             Chicken Bowl\n",
              "Name: item_name, dtype: object"
            ]
          },
          "metadata": {
            "tags": []
          },
          "execution_count": 5
        }
      ]
    },
    {
      "cell_type": "markdown",
      "metadata": {
        "id": "S91tnTnkMpL4"
      },
      "source": [
        "Bracket notation will always work, whereas dot notation has limitations:\n",
        "* Dot notation doesn't work if there are spaces in the Series name\n",
        "* Dot notation doesn't work if the Series has the same name as a DataFrame method or attribute (like 'head' or 'shape')\n",
        "* Dot notation can't be used to define the name of a new Series (see below)"
      ]
    },
    {
      "cell_type": "code",
      "metadata": {
        "colab": {
          "base_uri": "https://localhost:8080/"
        },
        "id": "S3ei1HrKNgae",
        "outputId": "a425d2c9-7ad7-421a-c374-80d5f862bfe9"
      },
      "source": [
        "# read_csv is equivalent to read_table, except it assumes a comma separator\n",
        "ufo = pd.read_csv('http://bit.ly/uforeports')\n",
        "# examine the column names\n",
        "ufo.columns"
      ],
      "execution_count": 6,
      "outputs": [
        {
          "output_type": "execute_result",
          "data": {
            "text/plain": [
              "Index(['City', 'Colors Reported', 'Shape Reported', 'State', 'Time'], dtype='object')"
            ]
          },
          "metadata": {
            "tags": []
          },
          "execution_count": 6
        }
      ]
    },
    {
      "cell_type": "code",
      "metadata": {
        "colab": {
          "base_uri": "https://localhost:8080/"
        },
        "id": "MzFqKO4kNkAS",
        "outputId": "a794256e-175e-4716-cb5b-9f3907aa618f"
      },
      "source": [
        "# rename two of the columns by using the 'rename' method\n",
        "ufo.rename(columns={'Colors Reported':'Colors_Reported', 'Shape Reported':'Shape_Reported'}, inplace=True)\n",
        "ufo.columns"
      ],
      "execution_count": 7,
      "outputs": [
        {
          "output_type": "execute_result",
          "data": {
            "text/plain": [
              "Index(['City', 'Colors_Reported', 'Shape_Reported', 'State', 'Time'], dtype='object')"
            ]
          },
          "metadata": {
            "tags": []
          },
          "execution_count": 7
        }
      ]
    },
    {
      "cell_type": "code",
      "metadata": {
        "colab": {
          "base_uri": "https://localhost:8080/"
        },
        "id": "Vjq95nVwNneF",
        "outputId": "1966ce39-2ce7-4505-dcfb-4050621e0370"
      },
      "source": [
        "# replace all of the column names by overwriting the 'columns' attribute\n",
        "ufo_cols = ['city', 'colors reported', 'shape reported', 'state', 'time']\n",
        "ufo.columns = ufo_cols\n",
        "ufo.columns"
      ],
      "execution_count": 8,
      "outputs": [
        {
          "output_type": "execute_result",
          "data": {
            "text/plain": [
              "Index(['city', 'colors reported', 'shape reported', 'state', 'time'], dtype='object')"
            ]
          },
          "metadata": {
            "tags": []
          },
          "execution_count": 8
        }
      ]
    },
    {
      "cell_type": "code",
      "metadata": {
        "colab": {
          "base_uri": "https://localhost:8080/"
        },
        "id": "9I3e3ZCbNnbc",
        "outputId": "2652b1af-927e-4298-fb68-2e4efdc77781"
      },
      "source": [
        "# replace the column names during the file reading process by using the 'names' parameter\n",
        "ufo = pd.read_csv('http://bit.ly/uforeports', header=0, names=ufo_cols)\n",
        "ufo.columns"
      ],
      "execution_count": 9,
      "outputs": [
        {
          "output_type": "execute_result",
          "data": {
            "text/plain": [
              "Index(['city', 'colors reported', 'shape reported', 'state', 'time'], dtype='object')"
            ]
          },
          "metadata": {
            "tags": []
          },
          "execution_count": 9
        }
      ]
    },
    {
      "cell_type": "code",
      "metadata": {
        "colab": {
          "base_uri": "https://localhost:8080/"
        },
        "id": "h0UvvbViNnXn",
        "outputId": "3f278220-3e86-4f2c-8445-794fa82df316"
      },
      "source": [
        "# replace all spaces with underscores in the column names by using the 'str.replace' method\n",
        "ufo.columns = ufo.columns.str.replace(' ', '_')\n",
        "ufo.columns"
      ],
      "execution_count": 10,
      "outputs": [
        {
          "output_type": "execute_result",
          "data": {
            "text/plain": [
              "Index(['city', 'colors_reported', 'shape_reported', 'state', 'time'], dtype='object')"
            ]
          },
          "metadata": {
            "tags": []
          },
          "execution_count": 10
        }
      ]
    },
    {
      "cell_type": "code",
      "metadata": {
        "colab": {
          "base_uri": "https://localhost:8080/",
          "height": 195
        },
        "id": "vWoD24kJNrrE",
        "outputId": "dae98297-9af3-4b18-fe6c-83f65edbedbf"
      },
      "source": [
        "ufo.head()"
      ],
      "execution_count": 11,
      "outputs": [
        {
          "output_type": "execute_result",
          "data": {
            "text/html": [
              "<div>\n",
              "<style scoped>\n",
              "    .dataframe tbody tr th:only-of-type {\n",
              "        vertical-align: middle;\n",
              "    }\n",
              "\n",
              "    .dataframe tbody tr th {\n",
              "        vertical-align: top;\n",
              "    }\n",
              "\n",
              "    .dataframe thead th {\n",
              "        text-align: right;\n",
              "    }\n",
              "</style>\n",
              "<table border=\"1\" class=\"dataframe\">\n",
              "  <thead>\n",
              "    <tr style=\"text-align: right;\">\n",
              "      <th></th>\n",
              "      <th>city</th>\n",
              "      <th>colors_reported</th>\n",
              "      <th>shape_reported</th>\n",
              "      <th>state</th>\n",
              "      <th>time</th>\n",
              "    </tr>\n",
              "  </thead>\n",
              "  <tbody>\n",
              "    <tr>\n",
              "      <th>0</th>\n",
              "      <td>Ithaca</td>\n",
              "      <td>NaN</td>\n",
              "      <td>TRIANGLE</td>\n",
              "      <td>NY</td>\n",
              "      <td>6/1/1930 22:00</td>\n",
              "    </tr>\n",
              "    <tr>\n",
              "      <th>1</th>\n",
              "      <td>Willingboro</td>\n",
              "      <td>NaN</td>\n",
              "      <td>OTHER</td>\n",
              "      <td>NJ</td>\n",
              "      <td>6/30/1930 20:00</td>\n",
              "    </tr>\n",
              "    <tr>\n",
              "      <th>2</th>\n",
              "      <td>Holyoke</td>\n",
              "      <td>NaN</td>\n",
              "      <td>OVAL</td>\n",
              "      <td>CO</td>\n",
              "      <td>2/15/1931 14:00</td>\n",
              "    </tr>\n",
              "    <tr>\n",
              "      <th>3</th>\n",
              "      <td>Abilene</td>\n",
              "      <td>NaN</td>\n",
              "      <td>DISK</td>\n",
              "      <td>KS</td>\n",
              "      <td>6/1/1931 13:00</td>\n",
              "    </tr>\n",
              "    <tr>\n",
              "      <th>4</th>\n",
              "      <td>New York Worlds Fair</td>\n",
              "      <td>NaN</td>\n",
              "      <td>LIGHT</td>\n",
              "      <td>NY</td>\n",
              "      <td>4/18/1933 19:00</td>\n",
              "    </tr>\n",
              "  </tbody>\n",
              "</table>\n",
              "</div>"
            ],
            "text/plain": [
              "                   city colors_reported shape_reported state             time\n",
              "0                Ithaca             NaN       TRIANGLE    NY   6/1/1930 22:00\n",
              "1           Willingboro             NaN          OTHER    NJ  6/30/1930 20:00\n",
              "2               Holyoke             NaN           OVAL    CO  2/15/1931 14:00\n",
              "3               Abilene             NaN           DISK    KS   6/1/1931 13:00\n",
              "4  New York Worlds Fair             NaN          LIGHT    NY  4/18/1933 19:00"
            ]
          },
          "metadata": {
            "tags": []
          },
          "execution_count": 11
        }
      ]
    },
    {
      "cell_type": "code",
      "metadata": {
        "colab": {
          "base_uri": "https://localhost:8080/",
          "height": 195
        },
        "id": "A4JC7ldvNrom",
        "outputId": "326db7ce-dd8a-453b-c502-3f3720239e4b"
      },
      "source": [
        "# create a new 'Location' Series (must use bracket notation to define the Series name)\n",
        "ufo['Location'] = ufo.city + ', ' + ufo.state\n",
        "ufo.head()"
      ],
      "execution_count": 12,
      "outputs": [
        {
          "output_type": "execute_result",
          "data": {
            "text/html": [
              "<div>\n",
              "<style scoped>\n",
              "    .dataframe tbody tr th:only-of-type {\n",
              "        vertical-align: middle;\n",
              "    }\n",
              "\n",
              "    .dataframe tbody tr th {\n",
              "        vertical-align: top;\n",
              "    }\n",
              "\n",
              "    .dataframe thead th {\n",
              "        text-align: right;\n",
              "    }\n",
              "</style>\n",
              "<table border=\"1\" class=\"dataframe\">\n",
              "  <thead>\n",
              "    <tr style=\"text-align: right;\">\n",
              "      <th></th>\n",
              "      <th>city</th>\n",
              "      <th>colors_reported</th>\n",
              "      <th>shape_reported</th>\n",
              "      <th>state</th>\n",
              "      <th>time</th>\n",
              "      <th>Location</th>\n",
              "    </tr>\n",
              "  </thead>\n",
              "  <tbody>\n",
              "    <tr>\n",
              "      <th>0</th>\n",
              "      <td>Ithaca</td>\n",
              "      <td>NaN</td>\n",
              "      <td>TRIANGLE</td>\n",
              "      <td>NY</td>\n",
              "      <td>6/1/1930 22:00</td>\n",
              "      <td>Ithaca, NY</td>\n",
              "    </tr>\n",
              "    <tr>\n",
              "      <th>1</th>\n",
              "      <td>Willingboro</td>\n",
              "      <td>NaN</td>\n",
              "      <td>OTHER</td>\n",
              "      <td>NJ</td>\n",
              "      <td>6/30/1930 20:00</td>\n",
              "      <td>Willingboro, NJ</td>\n",
              "    </tr>\n",
              "    <tr>\n",
              "      <th>2</th>\n",
              "      <td>Holyoke</td>\n",
              "      <td>NaN</td>\n",
              "      <td>OVAL</td>\n",
              "      <td>CO</td>\n",
              "      <td>2/15/1931 14:00</td>\n",
              "      <td>Holyoke, CO</td>\n",
              "    </tr>\n",
              "    <tr>\n",
              "      <th>3</th>\n",
              "      <td>Abilene</td>\n",
              "      <td>NaN</td>\n",
              "      <td>DISK</td>\n",
              "      <td>KS</td>\n",
              "      <td>6/1/1931 13:00</td>\n",
              "      <td>Abilene, KS</td>\n",
              "    </tr>\n",
              "    <tr>\n",
              "      <th>4</th>\n",
              "      <td>New York Worlds Fair</td>\n",
              "      <td>NaN</td>\n",
              "      <td>LIGHT</td>\n",
              "      <td>NY</td>\n",
              "      <td>4/18/1933 19:00</td>\n",
              "      <td>New York Worlds Fair, NY</td>\n",
              "    </tr>\n",
              "  </tbody>\n",
              "</table>\n",
              "</div>"
            ],
            "text/plain": [
              "                   city  ...                  Location\n",
              "0                Ithaca  ...                Ithaca, NY\n",
              "1           Willingboro  ...           Willingboro, NJ\n",
              "2               Holyoke  ...               Holyoke, CO\n",
              "3               Abilene  ...               Abilene, KS\n",
              "4  New York Worlds Fair  ...  New York Worlds Fair, NY\n",
              "\n",
              "[5 rows x 6 columns]"
            ]
          },
          "metadata": {
            "tags": []
          },
          "execution_count": 12
        }
      ]
    },
    {
      "cell_type": "code",
      "metadata": {
        "colab": {
          "base_uri": "https://localhost:8080/",
          "height": 166
        },
        "id": "eCoQBUH7NyBj",
        "outputId": "f3895f19-e86e-4a73-cbf6-c360f0c483bb"
      },
      "source": [
        "ufo.describe() #Describe is a quick function to tell us about the data frame"
      ],
      "execution_count": 13,
      "outputs": [
        {
          "output_type": "execute_result",
          "data": {
            "text/html": [
              "<div>\n",
              "<style scoped>\n",
              "    .dataframe tbody tr th:only-of-type {\n",
              "        vertical-align: middle;\n",
              "    }\n",
              "\n",
              "    .dataframe tbody tr th {\n",
              "        vertical-align: top;\n",
              "    }\n",
              "\n",
              "    .dataframe thead th {\n",
              "        text-align: right;\n",
              "    }\n",
              "</style>\n",
              "<table border=\"1\" class=\"dataframe\">\n",
              "  <thead>\n",
              "    <tr style=\"text-align: right;\">\n",
              "      <th></th>\n",
              "      <th>city</th>\n",
              "      <th>colors_reported</th>\n",
              "      <th>shape_reported</th>\n",
              "      <th>state</th>\n",
              "      <th>time</th>\n",
              "      <th>Location</th>\n",
              "    </tr>\n",
              "  </thead>\n",
              "  <tbody>\n",
              "    <tr>\n",
              "      <th>count</th>\n",
              "      <td>18216</td>\n",
              "      <td>2882</td>\n",
              "      <td>15597</td>\n",
              "      <td>18241</td>\n",
              "      <td>18241</td>\n",
              "      <td>18216</td>\n",
              "    </tr>\n",
              "    <tr>\n",
              "      <th>unique</th>\n",
              "      <td>6476</td>\n",
              "      <td>27</td>\n",
              "      <td>27</td>\n",
              "      <td>52</td>\n",
              "      <td>16145</td>\n",
              "      <td>8029</td>\n",
              "    </tr>\n",
              "    <tr>\n",
              "      <th>top</th>\n",
              "      <td>Seattle</td>\n",
              "      <td>RED</td>\n",
              "      <td>LIGHT</td>\n",
              "      <td>CA</td>\n",
              "      <td>11/16/1999 19:00</td>\n",
              "      <td>Seattle, WA</td>\n",
              "    </tr>\n",
              "    <tr>\n",
              "      <th>freq</th>\n",
              "      <td>187</td>\n",
              "      <td>780</td>\n",
              "      <td>2803</td>\n",
              "      <td>2529</td>\n",
              "      <td>27</td>\n",
              "      <td>187</td>\n",
              "    </tr>\n",
              "  </tbody>\n",
              "</table>\n",
              "</div>"
            ],
            "text/plain": [
              "           city colors_reported  ...              time     Location\n",
              "count     18216            2882  ...             18241        18216\n",
              "unique     6476              27  ...             16145         8029\n",
              "top     Seattle             RED  ...  11/16/1999 19:00  Seattle, WA\n",
              "freq        187             780  ...                27          187\n",
              "\n",
              "[4 rows x 6 columns]"
            ]
          },
          "metadata": {
            "tags": []
          },
          "execution_count": 13
        }
      ]
    },
    {
      "cell_type": "code",
      "metadata": {
        "colab": {
          "base_uri": "https://localhost:8080/",
          "height": 195
        },
        "id": "N9Etr8oZNx8-",
        "outputId": "70086fc9-30a7-49e8-a604-f02ba1da4644"
      },
      "source": [
        "# remove a single column (axis=1 refers to columns)\n",
        "ufo.drop('colors_reported', axis=1, inplace=True)\n",
        "ufo.head()"
      ],
      "execution_count": 14,
      "outputs": [
        {
          "output_type": "execute_result",
          "data": {
            "text/html": [
              "<div>\n",
              "<style scoped>\n",
              "    .dataframe tbody tr th:only-of-type {\n",
              "        vertical-align: middle;\n",
              "    }\n",
              "\n",
              "    .dataframe tbody tr th {\n",
              "        vertical-align: top;\n",
              "    }\n",
              "\n",
              "    .dataframe thead th {\n",
              "        text-align: right;\n",
              "    }\n",
              "</style>\n",
              "<table border=\"1\" class=\"dataframe\">\n",
              "  <thead>\n",
              "    <tr style=\"text-align: right;\">\n",
              "      <th></th>\n",
              "      <th>city</th>\n",
              "      <th>shape_reported</th>\n",
              "      <th>state</th>\n",
              "      <th>time</th>\n",
              "      <th>Location</th>\n",
              "    </tr>\n",
              "  </thead>\n",
              "  <tbody>\n",
              "    <tr>\n",
              "      <th>0</th>\n",
              "      <td>Ithaca</td>\n",
              "      <td>TRIANGLE</td>\n",
              "      <td>NY</td>\n",
              "      <td>6/1/1930 22:00</td>\n",
              "      <td>Ithaca, NY</td>\n",
              "    </tr>\n",
              "    <tr>\n",
              "      <th>1</th>\n",
              "      <td>Willingboro</td>\n",
              "      <td>OTHER</td>\n",
              "      <td>NJ</td>\n",
              "      <td>6/30/1930 20:00</td>\n",
              "      <td>Willingboro, NJ</td>\n",
              "    </tr>\n",
              "    <tr>\n",
              "      <th>2</th>\n",
              "      <td>Holyoke</td>\n",
              "      <td>OVAL</td>\n",
              "      <td>CO</td>\n",
              "      <td>2/15/1931 14:00</td>\n",
              "      <td>Holyoke, CO</td>\n",
              "    </tr>\n",
              "    <tr>\n",
              "      <th>3</th>\n",
              "      <td>Abilene</td>\n",
              "      <td>DISK</td>\n",
              "      <td>KS</td>\n",
              "      <td>6/1/1931 13:00</td>\n",
              "      <td>Abilene, KS</td>\n",
              "    </tr>\n",
              "    <tr>\n",
              "      <th>4</th>\n",
              "      <td>New York Worlds Fair</td>\n",
              "      <td>LIGHT</td>\n",
              "      <td>NY</td>\n",
              "      <td>4/18/1933 19:00</td>\n",
              "      <td>New York Worlds Fair, NY</td>\n",
              "    </tr>\n",
              "  </tbody>\n",
              "</table>\n",
              "</div>"
            ],
            "text/plain": [
              "                   city  ...                  Location\n",
              "0                Ithaca  ...                Ithaca, NY\n",
              "1           Willingboro  ...           Willingboro, NJ\n",
              "2               Holyoke  ...               Holyoke, CO\n",
              "3               Abilene  ...               Abilene, KS\n",
              "4  New York Worlds Fair  ...  New York Worlds Fair, NY\n",
              "\n",
              "[5 rows x 5 columns]"
            ]
          },
          "metadata": {
            "tags": []
          },
          "execution_count": 14
        }
      ]
    },
    {
      "cell_type": "markdown",
      "metadata": {
        "id": "2smnsZRXKqNV"
      },
      "source": [
        "#Pandas Assignment - October 2015 Wind Plot\n",
        "\n",
        "* Subset dataset to October 2015 only\n",
        "* Convert Wind Speed & Wind Gust data from m/s to mph\n",
        "* Plot wind speed and wind gust on same plot - wind speed as lines and wind gust as points\n",
        "* Add legend\n",
        "* Compute correlation coefficient between wind gust and wind speed using pandas.dataframe.corr() - add to title of plot"
      ]
    },
    {
      "cell_type": "markdown",
      "metadata": {
        "id": "OlBE-YWCJ0pv"
      },
      "source": [
        "#Subset dataset to October 2015 only"
      ]
    },
    {
      "cell_type": "code",
      "metadata": {
        "colab": {
          "base_uri": "https://localhost:8080/"
        },
        "id": "XRzpv3A7Ocgj",
        "outputId": "90db4aa9-3d97-40b2-e404-dde39aa4f2a1"
      },
      "source": [
        "from google.colab import drive\n",
        "drive.mount(\"/content/drive\")"
      ],
      "execution_count": 15,
      "outputs": [
        {
          "output_type": "stream",
          "text": [
            "Mounted at /content/drive\n"
          ],
          "name": "stdout"
        }
      ]
    },
    {
      "cell_type": "code",
      "metadata": {
        "id": "QVUbw-msfxxI",
        "colab": {
          "base_uri": "https://localhost:8080/",
          "height": 603
        },
        "outputId": "dceb00fe-037d-4c14-f2a9-f0077746b921"
      },
      "source": [
        "deos_data = pd.read_csv('/content/drive/MyDrive/GEOG673/DEOS.csv')\n",
        "deos_data"
      ],
      "execution_count": 16,
      "outputs": [
        {
          "output_type": "execute_result",
          "data": {
            "text/html": [
              "<div>\n",
              "<style scoped>\n",
              "    .dataframe tbody tr th:only-of-type {\n",
              "        vertical-align: middle;\n",
              "    }\n",
              "\n",
              "    .dataframe tbody tr th {\n",
              "        vertical-align: top;\n",
              "    }\n",
              "\n",
              "    .dataframe thead th {\n",
              "        text-align: right;\n",
              "    }\n",
              "</style>\n",
              "<table border=\"1\" class=\"dataframe\">\n",
              "  <thead>\n",
              "    <tr style=\"text-align: right;\">\n",
              "      <th></th>\n",
              "      <th>Timestamp (UTC)</th>\n",
              "      <th>Air Temperature(deg. C)</th>\n",
              "      <th>Dew Point Temperature(deg. C)</th>\n",
              "      <th>Wind Speed(m/sec)</th>\n",
              "      <th>Wind Direction(deg.)</th>\n",
              "      <th>Barometric Pressure()</th>\n",
              "      <th>Solar Radiation(UNKNOWN)</th>\n",
              "      <th>Wind Gust Speed (5)(m/sec)</th>\n",
              "      <th>Gage Precipitation (5)(mm)</th>\n",
              "    </tr>\n",
              "  </thead>\n",
              "  <tbody>\n",
              "    <tr>\n",
              "      <th>0</th>\n",
              "      <td>2014-04-04 04:05</td>\n",
              "      <td>7.1</td>\n",
              "      <td>4.3</td>\n",
              "      <td>3.7</td>\n",
              "      <td>351.7</td>\n",
              "      <td></td>\n",
              "      <td>0</td>\n",
              "      <td>5.1</td>\n",
              "      <td>0.00</td>\n",
              "    </tr>\n",
              "    <tr>\n",
              "      <th>1</th>\n",
              "      <td>2014-04-04 04:10</td>\n",
              "      <td>6.9</td>\n",
              "      <td>4.3</td>\n",
              "      <td>3.5</td>\n",
              "      <td>352.9</td>\n",
              "      <td></td>\n",
              "      <td>0</td>\n",
              "      <td>5.8</td>\n",
              "      <td>0.00</td>\n",
              "    </tr>\n",
              "    <tr>\n",
              "      <th>2</th>\n",
              "      <td>2014-04-04 04:15</td>\n",
              "      <td>6.8</td>\n",
              "      <td>4.3</td>\n",
              "      <td>3.9</td>\n",
              "      <td>357.5</td>\n",
              "      <td></td>\n",
              "      <td>0</td>\n",
              "      <td>6.2</td>\n",
              "      <td>0.25</td>\n",
              "    </tr>\n",
              "    <tr>\n",
              "      <th>3</th>\n",
              "      <td>2014-04-04 04:20</td>\n",
              "      <td>6.7</td>\n",
              "      <td>4.4</td>\n",
              "      <td>3.9</td>\n",
              "      <td>356.8</td>\n",
              "      <td></td>\n",
              "      <td>0</td>\n",
              "      <td>5.9</td>\n",
              "      <td>0.00</td>\n",
              "    </tr>\n",
              "    <tr>\n",
              "      <th>4</th>\n",
              "      <td>2014-04-04 04:25</td>\n",
              "      <td>6.6</td>\n",
              "      <td>4.4</td>\n",
              "      <td>3.3</td>\n",
              "      <td>5.5</td>\n",
              "      <td></td>\n",
              "      <td>0</td>\n",
              "      <td>4.9</td>\n",
              "      <td>0.00</td>\n",
              "    </tr>\n",
              "    <tr>\n",
              "      <th>...</th>\n",
              "      <td>...</td>\n",
              "      <td>...</td>\n",
              "      <td>...</td>\n",
              "      <td>...</td>\n",
              "      <td>...</td>\n",
              "      <td>...</td>\n",
              "      <td>...</td>\n",
              "      <td>...</td>\n",
              "      <td>...</td>\n",
              "    </tr>\n",
              "    <tr>\n",
              "      <th>182640</th>\n",
              "      <td>2015-12-31 23:40</td>\n",
              "      <td>9.2</td>\n",
              "      <td>5.7</td>\n",
              "      <td>3.4</td>\n",
              "      <td>350.3</td>\n",
              "      <td></td>\n",
              "      <td>0</td>\n",
              "      <td>5.5</td>\n",
              "      <td>0.00</td>\n",
              "    </tr>\n",
              "    <tr>\n",
              "      <th>182641</th>\n",
              "      <td>2015-12-31 23:45</td>\n",
              "      <td>9.2</td>\n",
              "      <td>5.6</td>\n",
              "      <td>3.6</td>\n",
              "      <td>352.5</td>\n",
              "      <td></td>\n",
              "      <td>0</td>\n",
              "      <td>5.2</td>\n",
              "      <td>0.00</td>\n",
              "    </tr>\n",
              "    <tr>\n",
              "      <th>182642</th>\n",
              "      <td>2015-12-31 23:50</td>\n",
              "      <td>9.2</td>\n",
              "      <td>5.5</td>\n",
              "      <td>3.6</td>\n",
              "      <td>347.5</td>\n",
              "      <td></td>\n",
              "      <td>0</td>\n",
              "      <td>5.6</td>\n",
              "      <td>0.00</td>\n",
              "    </tr>\n",
              "    <tr>\n",
              "      <th>182643</th>\n",
              "      <td>2015-12-31 23:55</td>\n",
              "      <td>9.1</td>\n",
              "      <td>5.3</td>\n",
              "      <td>3.2</td>\n",
              "      <td>351.1</td>\n",
              "      <td></td>\n",
              "      <td>0</td>\n",
              "      <td>5.0</td>\n",
              "      <td>0.00</td>\n",
              "    </tr>\n",
              "    <tr>\n",
              "      <th>182644</th>\n",
              "      <td>2016-01-01 00:00</td>\n",
              "      <td>9.0</td>\n",
              "      <td>5.2</td>\n",
              "      <td>3.5</td>\n",
              "      <td>347.5</td>\n",
              "      <td></td>\n",
              "      <td>0</td>\n",
              "      <td>5.7</td>\n",
              "      <td>0.00</td>\n",
              "    </tr>\n",
              "  </tbody>\n",
              "</table>\n",
              "<p>182645 rows × 9 columns</p>\n",
              "</div>"
            ],
            "text/plain": [
              "         Timestamp (UTC)  ...   Gage Precipitation (5)(mm)\n",
              "0       2014-04-04 04:05  ...                         0.00\n",
              "1       2014-04-04 04:10  ...                         0.00\n",
              "2       2014-04-04 04:15  ...                         0.25\n",
              "3       2014-04-04 04:20  ...                         0.00\n",
              "4       2014-04-04 04:25  ...                         0.00\n",
              "...                  ...  ...                          ...\n",
              "182640  2015-12-31 23:40  ...                         0.00\n",
              "182641  2015-12-31 23:45  ...                         0.00\n",
              "182642  2015-12-31 23:50  ...                         0.00\n",
              "182643  2015-12-31 23:55  ...                         0.00\n",
              "182644  2016-01-01 00:00  ...                         0.00\n",
              "\n",
              "[182645 rows x 9 columns]"
            ]
          },
          "metadata": {
            "tags": []
          },
          "execution_count": 16
        }
      ]
    },
    {
      "cell_type": "code",
      "metadata": {
        "colab": {
          "base_uri": "https://localhost:8080/",
          "height": 402
        },
        "id": "Aqv2AtW7O_3P",
        "outputId": "a75b3e2a-382a-42c0-ba1b-18d16e64d93d"
      },
      "source": [
        "# replace all of the column names by overwriting the 'columns' attribute\n",
        "deos_cols = ['Timestamp', 'AirTemperature', 'DewPoint','WindSpeed','WindDirection','BarometricPressure', 'SolarRadiation', 'WindGust', 'GagePrecipitation']\n",
        "deos_data.columns = deos_cols\n",
        "deos_data"
      ],
      "execution_count": 17,
      "outputs": [
        {
          "output_type": "execute_result",
          "data": {
            "text/html": [
              "<div>\n",
              "<style scoped>\n",
              "    .dataframe tbody tr th:only-of-type {\n",
              "        vertical-align: middle;\n",
              "    }\n",
              "\n",
              "    .dataframe tbody tr th {\n",
              "        vertical-align: top;\n",
              "    }\n",
              "\n",
              "    .dataframe thead th {\n",
              "        text-align: right;\n",
              "    }\n",
              "</style>\n",
              "<table border=\"1\" class=\"dataframe\">\n",
              "  <thead>\n",
              "    <tr style=\"text-align: right;\">\n",
              "      <th></th>\n",
              "      <th>Timestamp</th>\n",
              "      <th>AirTemperature</th>\n",
              "      <th>DewPoint</th>\n",
              "      <th>WindSpeed</th>\n",
              "      <th>WindDirection</th>\n",
              "      <th>BarometricPressure</th>\n",
              "      <th>SolarRadiation</th>\n",
              "      <th>WindGust</th>\n",
              "      <th>GagePrecipitation</th>\n",
              "    </tr>\n",
              "  </thead>\n",
              "  <tbody>\n",
              "    <tr>\n",
              "      <th>0</th>\n",
              "      <td>2014-04-04 04:05</td>\n",
              "      <td>7.1</td>\n",
              "      <td>4.3</td>\n",
              "      <td>3.7</td>\n",
              "      <td>351.7</td>\n",
              "      <td></td>\n",
              "      <td>0</td>\n",
              "      <td>5.1</td>\n",
              "      <td>0.00</td>\n",
              "    </tr>\n",
              "    <tr>\n",
              "      <th>1</th>\n",
              "      <td>2014-04-04 04:10</td>\n",
              "      <td>6.9</td>\n",
              "      <td>4.3</td>\n",
              "      <td>3.5</td>\n",
              "      <td>352.9</td>\n",
              "      <td></td>\n",
              "      <td>0</td>\n",
              "      <td>5.8</td>\n",
              "      <td>0.00</td>\n",
              "    </tr>\n",
              "    <tr>\n",
              "      <th>2</th>\n",
              "      <td>2014-04-04 04:15</td>\n",
              "      <td>6.8</td>\n",
              "      <td>4.3</td>\n",
              "      <td>3.9</td>\n",
              "      <td>357.5</td>\n",
              "      <td></td>\n",
              "      <td>0</td>\n",
              "      <td>6.2</td>\n",
              "      <td>0.25</td>\n",
              "    </tr>\n",
              "    <tr>\n",
              "      <th>3</th>\n",
              "      <td>2014-04-04 04:20</td>\n",
              "      <td>6.7</td>\n",
              "      <td>4.4</td>\n",
              "      <td>3.9</td>\n",
              "      <td>356.8</td>\n",
              "      <td></td>\n",
              "      <td>0</td>\n",
              "      <td>5.9</td>\n",
              "      <td>0.00</td>\n",
              "    </tr>\n",
              "    <tr>\n",
              "      <th>4</th>\n",
              "      <td>2014-04-04 04:25</td>\n",
              "      <td>6.6</td>\n",
              "      <td>4.4</td>\n",
              "      <td>3.3</td>\n",
              "      <td>5.5</td>\n",
              "      <td></td>\n",
              "      <td>0</td>\n",
              "      <td>4.9</td>\n",
              "      <td>0.00</td>\n",
              "    </tr>\n",
              "    <tr>\n",
              "      <th>...</th>\n",
              "      <td>...</td>\n",
              "      <td>...</td>\n",
              "      <td>...</td>\n",
              "      <td>...</td>\n",
              "      <td>...</td>\n",
              "      <td>...</td>\n",
              "      <td>...</td>\n",
              "      <td>...</td>\n",
              "      <td>...</td>\n",
              "    </tr>\n",
              "    <tr>\n",
              "      <th>182640</th>\n",
              "      <td>2015-12-31 23:40</td>\n",
              "      <td>9.2</td>\n",
              "      <td>5.7</td>\n",
              "      <td>3.4</td>\n",
              "      <td>350.3</td>\n",
              "      <td></td>\n",
              "      <td>0</td>\n",
              "      <td>5.5</td>\n",
              "      <td>0.00</td>\n",
              "    </tr>\n",
              "    <tr>\n",
              "      <th>182641</th>\n",
              "      <td>2015-12-31 23:45</td>\n",
              "      <td>9.2</td>\n",
              "      <td>5.6</td>\n",
              "      <td>3.6</td>\n",
              "      <td>352.5</td>\n",
              "      <td></td>\n",
              "      <td>0</td>\n",
              "      <td>5.2</td>\n",
              "      <td>0.00</td>\n",
              "    </tr>\n",
              "    <tr>\n",
              "      <th>182642</th>\n",
              "      <td>2015-12-31 23:50</td>\n",
              "      <td>9.2</td>\n",
              "      <td>5.5</td>\n",
              "      <td>3.6</td>\n",
              "      <td>347.5</td>\n",
              "      <td></td>\n",
              "      <td>0</td>\n",
              "      <td>5.6</td>\n",
              "      <td>0.00</td>\n",
              "    </tr>\n",
              "    <tr>\n",
              "      <th>182643</th>\n",
              "      <td>2015-12-31 23:55</td>\n",
              "      <td>9.1</td>\n",
              "      <td>5.3</td>\n",
              "      <td>3.2</td>\n",
              "      <td>351.1</td>\n",
              "      <td></td>\n",
              "      <td>0</td>\n",
              "      <td>5.0</td>\n",
              "      <td>0.00</td>\n",
              "    </tr>\n",
              "    <tr>\n",
              "      <th>182644</th>\n",
              "      <td>2016-01-01 00:00</td>\n",
              "      <td>9.0</td>\n",
              "      <td>5.2</td>\n",
              "      <td>3.5</td>\n",
              "      <td>347.5</td>\n",
              "      <td></td>\n",
              "      <td>0</td>\n",
              "      <td>5.7</td>\n",
              "      <td>0.00</td>\n",
              "    </tr>\n",
              "  </tbody>\n",
              "</table>\n",
              "<p>182645 rows × 9 columns</p>\n",
              "</div>"
            ],
            "text/plain": [
              "               Timestamp  AirTemperature  ...  WindGust  GagePrecipitation\n",
              "0       2014-04-04 04:05             7.1  ...       5.1               0.00\n",
              "1       2014-04-04 04:10             6.9  ...       5.8               0.00\n",
              "2       2014-04-04 04:15             6.8  ...       6.2               0.25\n",
              "3       2014-04-04 04:20             6.7  ...       5.9               0.00\n",
              "4       2014-04-04 04:25             6.6  ...       4.9               0.00\n",
              "...                  ...             ...  ...       ...                ...\n",
              "182640  2015-12-31 23:40             9.2  ...       5.5               0.00\n",
              "182641  2015-12-31 23:45             9.2  ...       5.2               0.00\n",
              "182642  2015-12-31 23:50             9.2  ...       5.6               0.00\n",
              "182643  2015-12-31 23:55             9.1  ...       5.0               0.00\n",
              "182644  2016-01-01 00:00             9.0  ...       5.7               0.00\n",
              "\n",
              "[182645 rows x 9 columns]"
            ]
          },
          "metadata": {
            "tags": []
          },
          "execution_count": 17
        }
      ]
    },
    {
      "cell_type": "code",
      "metadata": {
        "colab": {
          "base_uri": "https://localhost:8080/",
          "height": 225
        },
        "id": "1w5jlRc9PGqt",
        "outputId": "e8c1f637-669b-42ad-a63e-8d15ab74ba75"
      },
      "source": [
        "#Set the index of the Pandas DataFrame to Date\n",
        "deos_data.set_index('Timestamp', inplace=True)\n",
        "deos_data.head()"
      ],
      "execution_count": 18,
      "outputs": [
        {
          "output_type": "execute_result",
          "data": {
            "text/html": [
              "<div>\n",
              "<style scoped>\n",
              "    .dataframe tbody tr th:only-of-type {\n",
              "        vertical-align: middle;\n",
              "    }\n",
              "\n",
              "    .dataframe tbody tr th {\n",
              "        vertical-align: top;\n",
              "    }\n",
              "\n",
              "    .dataframe thead th {\n",
              "        text-align: right;\n",
              "    }\n",
              "</style>\n",
              "<table border=\"1\" class=\"dataframe\">\n",
              "  <thead>\n",
              "    <tr style=\"text-align: right;\">\n",
              "      <th></th>\n",
              "      <th>AirTemperature</th>\n",
              "      <th>DewPoint</th>\n",
              "      <th>WindSpeed</th>\n",
              "      <th>WindDirection</th>\n",
              "      <th>BarometricPressure</th>\n",
              "      <th>SolarRadiation</th>\n",
              "      <th>WindGust</th>\n",
              "      <th>GagePrecipitation</th>\n",
              "    </tr>\n",
              "    <tr>\n",
              "      <th>Timestamp</th>\n",
              "      <th></th>\n",
              "      <th></th>\n",
              "      <th></th>\n",
              "      <th></th>\n",
              "      <th></th>\n",
              "      <th></th>\n",
              "      <th></th>\n",
              "      <th></th>\n",
              "    </tr>\n",
              "  </thead>\n",
              "  <tbody>\n",
              "    <tr>\n",
              "      <th>2014-04-04 04:05</th>\n",
              "      <td>7.1</td>\n",
              "      <td>4.3</td>\n",
              "      <td>3.7</td>\n",
              "      <td>351.7</td>\n",
              "      <td></td>\n",
              "      <td>0</td>\n",
              "      <td>5.1</td>\n",
              "      <td>0.00</td>\n",
              "    </tr>\n",
              "    <tr>\n",
              "      <th>2014-04-04 04:10</th>\n",
              "      <td>6.9</td>\n",
              "      <td>4.3</td>\n",
              "      <td>3.5</td>\n",
              "      <td>352.9</td>\n",
              "      <td></td>\n",
              "      <td>0</td>\n",
              "      <td>5.8</td>\n",
              "      <td>0.00</td>\n",
              "    </tr>\n",
              "    <tr>\n",
              "      <th>2014-04-04 04:15</th>\n",
              "      <td>6.8</td>\n",
              "      <td>4.3</td>\n",
              "      <td>3.9</td>\n",
              "      <td>357.5</td>\n",
              "      <td></td>\n",
              "      <td>0</td>\n",
              "      <td>6.2</td>\n",
              "      <td>0.25</td>\n",
              "    </tr>\n",
              "    <tr>\n",
              "      <th>2014-04-04 04:20</th>\n",
              "      <td>6.7</td>\n",
              "      <td>4.4</td>\n",
              "      <td>3.9</td>\n",
              "      <td>356.8</td>\n",
              "      <td></td>\n",
              "      <td>0</td>\n",
              "      <td>5.9</td>\n",
              "      <td>0.00</td>\n",
              "    </tr>\n",
              "    <tr>\n",
              "      <th>2014-04-04 04:25</th>\n",
              "      <td>6.6</td>\n",
              "      <td>4.4</td>\n",
              "      <td>3.3</td>\n",
              "      <td>5.5</td>\n",
              "      <td></td>\n",
              "      <td>0</td>\n",
              "      <td>4.9</td>\n",
              "      <td>0.00</td>\n",
              "    </tr>\n",
              "  </tbody>\n",
              "</table>\n",
              "</div>"
            ],
            "text/plain": [
              "                  AirTemperature  DewPoint  ...  WindGust  GagePrecipitation\n",
              "Timestamp                                   ...                             \n",
              "2014-04-04 04:05             7.1       4.3  ...       5.1               0.00\n",
              "2014-04-04 04:10             6.9       4.3  ...       5.8               0.00\n",
              "2014-04-04 04:15             6.8       4.3  ...       6.2               0.25\n",
              "2014-04-04 04:20             6.7       4.4  ...       5.9               0.00\n",
              "2014-04-04 04:25             6.6       4.4  ...       4.9               0.00\n",
              "\n",
              "[5 rows x 8 columns]"
            ]
          },
          "metadata": {
            "tags": []
          },
          "execution_count": 18
        }
      ]
    },
    {
      "cell_type": "code",
      "metadata": {
        "colab": {
          "base_uri": "https://localhost:8080/",
          "height": 284
        },
        "id": "3P-fuf13PGot",
        "outputId": "430163d1-dbf9-4ef2-db31-faf052ed0b94"
      },
      "source": [
        "deos_data.describe()"
      ],
      "execution_count": 19,
      "outputs": [
        {
          "output_type": "execute_result",
          "data": {
            "text/html": [
              "<div>\n",
              "<style scoped>\n",
              "    .dataframe tbody tr th:only-of-type {\n",
              "        vertical-align: middle;\n",
              "    }\n",
              "\n",
              "    .dataframe tbody tr th {\n",
              "        vertical-align: top;\n",
              "    }\n",
              "\n",
              "    .dataframe thead th {\n",
              "        text-align: right;\n",
              "    }\n",
              "</style>\n",
              "<table border=\"1\" class=\"dataframe\">\n",
              "  <thead>\n",
              "    <tr style=\"text-align: right;\">\n",
              "      <th></th>\n",
              "      <th>AirTemperature</th>\n",
              "      <th>DewPoint</th>\n",
              "      <th>WindSpeed</th>\n",
              "      <th>WindDirection</th>\n",
              "      <th>SolarRadiation</th>\n",
              "      <th>WindGust</th>\n",
              "      <th>GagePrecipitation</th>\n",
              "    </tr>\n",
              "  </thead>\n",
              "  <tbody>\n",
              "    <tr>\n",
              "      <th>count</th>\n",
              "      <td>182645.000000</td>\n",
              "      <td>182645.000000</td>\n",
              "      <td>182645.00000</td>\n",
              "      <td>182645.000000</td>\n",
              "      <td>182645.000000</td>\n",
              "      <td>182645.000000</td>\n",
              "      <td>182645.000000</td>\n",
              "    </tr>\n",
              "    <tr>\n",
              "      <th>mean</th>\n",
              "      <td>14.102732</td>\n",
              "      <td>8.505265</td>\n",
              "      <td>2.99669</td>\n",
              "      <td>186.968699</td>\n",
              "      <td>192.732744</td>\n",
              "      <td>4.906990</td>\n",
              "      <td>0.013539</td>\n",
              "    </tr>\n",
              "    <tr>\n",
              "      <th>std</th>\n",
              "      <td>9.040767</td>\n",
              "      <td>9.408601</td>\n",
              "      <td>1.82756</td>\n",
              "      <td>103.266186</td>\n",
              "      <td>293.014540</td>\n",
              "      <td>2.712489</td>\n",
              "      <td>0.152888</td>\n",
              "    </tr>\n",
              "    <tr>\n",
              "      <th>min</th>\n",
              "      <td>-51.000000</td>\n",
              "      <td>-53.300000</td>\n",
              "      <td>0.10000</td>\n",
              "      <td>0.000000</td>\n",
              "      <td>0.000000</td>\n",
              "      <td>0.100000</td>\n",
              "      <td>0.000000</td>\n",
              "    </tr>\n",
              "    <tr>\n",
              "      <th>25%</th>\n",
              "      <td>7.600000</td>\n",
              "      <td>2.200000</td>\n",
              "      <td>1.80000</td>\n",
              "      <td>99.300000</td>\n",
              "      <td>0.000000</td>\n",
              "      <td>2.900000</td>\n",
              "      <td>0.000000</td>\n",
              "    </tr>\n",
              "    <tr>\n",
              "      <th>50%</th>\n",
              "      <td>15.200000</td>\n",
              "      <td>10.200000</td>\n",
              "      <td>2.60000</td>\n",
              "      <td>202.200000</td>\n",
              "      <td>4.000000</td>\n",
              "      <td>4.400000</td>\n",
              "      <td>0.000000</td>\n",
              "    </tr>\n",
              "    <tr>\n",
              "      <th>75%</th>\n",
              "      <td>21.200000</td>\n",
              "      <td>16.200000</td>\n",
              "      <td>3.70000</td>\n",
              "      <td>258.900000</td>\n",
              "      <td>313.000000</td>\n",
              "      <td>6.400000</td>\n",
              "      <td>0.000000</td>\n",
              "    </tr>\n",
              "    <tr>\n",
              "      <th>max</th>\n",
              "      <td>37.000000</td>\n",
              "      <td>25.500000</td>\n",
              "      <td>16.70000</td>\n",
              "      <td>360.000000</td>\n",
              "      <td>1335.000000</td>\n",
              "      <td>24.400000</td>\n",
              "      <td>9.650000</td>\n",
              "    </tr>\n",
              "  </tbody>\n",
              "</table>\n",
              "</div>"
            ],
            "text/plain": [
              "       AirTemperature       DewPoint  ...       WindGust  GagePrecipitation\n",
              "count   182645.000000  182645.000000  ...  182645.000000      182645.000000\n",
              "mean        14.102732       8.505265  ...       4.906990           0.013539\n",
              "std          9.040767       9.408601  ...       2.712489           0.152888\n",
              "min        -51.000000     -53.300000  ...       0.100000           0.000000\n",
              "25%          7.600000       2.200000  ...       2.900000           0.000000\n",
              "50%         15.200000      10.200000  ...       4.400000           0.000000\n",
              "75%         21.200000      16.200000  ...       6.400000           0.000000\n",
              "max         37.000000      25.500000  ...      24.400000           9.650000\n",
              "\n",
              "[8 rows x 7 columns]"
            ]
          },
          "metadata": {
            "tags": []
          },
          "execution_count": 19
        }
      ]
    },
    {
      "cell_type": "code",
      "metadata": {
        "colab": {
          "base_uri": "https://localhost:8080/"
        },
        "id": "3zUfvGJGPGmI",
        "outputId": "b937be1d-6d7f-4c14-e110-929ec54f7204"
      },
      "source": [
        "deos_data.loc['2015-10-01 00:05']"
      ],
      "execution_count": 20,
      "outputs": [
        {
          "output_type": "execute_result",
          "data": {
            "text/plain": [
              "AirTemperature         17.4\n",
              "DewPoint               16.7\n",
              "WindSpeed               4.4\n",
              "WindDirection         348.3\n",
              "BarometricPressure         \n",
              "SolarRadiation            0\n",
              "WindGust                7.9\n",
              "GagePrecipitation         0\n",
              "Name: 2015-10-01 00:05, dtype: object"
            ]
          },
          "metadata": {
            "tags": []
          },
          "execution_count": 20
        }
      ]
    },
    {
      "cell_type": "code",
      "metadata": {
        "colab": {
          "base_uri": "https://localhost:8080/"
        },
        "id": "TRVXAsPQSoza",
        "outputId": "d353e281-2112-4477-b366-797590590917"
      },
      "source": [
        "deos_data[\"AirTemperature\"].nlargest(5)"
      ],
      "execution_count": 21,
      "outputs": [
        {
          "output_type": "execute_result",
          "data": {
            "text/plain": [
              "Timestamp\n",
              "2014-06-18 18:15    37.0\n",
              "2014-06-18 18:40    36.7\n",
              "2014-06-18 18:20    36.5\n",
              "2014-06-18 19:30    36.5\n",
              "2014-06-18 18:05    36.4\n",
              "Name: AirTemperature, dtype: float64"
            ]
          },
          "metadata": {
            "tags": []
          },
          "execution_count": 21
        }
      ]
    },
    {
      "cell_type": "code",
      "metadata": {
        "colab": {
          "base_uri": "https://localhost:8080/"
        },
        "id": "1iFtbfZrSsRE",
        "outputId": "a8b8dd6b-ed8a-4f96-95fc-cba8713e8e07"
      },
      "source": [
        "deos_data[\"AirTemperature\"].nsmallest(5)"
      ],
      "execution_count": 22,
      "outputs": [
        {
          "output_type": "execute_result",
          "data": {
            "text/plain": [
              "Timestamp\n",
              "2015-04-07 16:10   -51.0\n",
              "2015-04-07 16:15   -43.9\n",
              "2015-02-21 03:50   -16.7\n",
              "2015-02-21 03:55   -16.7\n",
              "2015-02-20 11:35   -16.6\n",
              "Name: AirTemperature, dtype: float64"
            ]
          },
          "metadata": {
            "tags": []
          },
          "execution_count": 22
        }
      ]
    },
    {
      "cell_type": "code",
      "metadata": {
        "colab": {
          "base_uri": "https://localhost:8080/",
          "height": 431
        },
        "id": "1z1HAYhOQYEC",
        "outputId": "002352e2-206a-4bc6-9c85-9d2aded0d477"
      },
      "source": [
        "#temp_series = deos_data[\"AirTemperature\"]\n",
        "temp_series = deos_data['2015-10-01' : '2015-10-31']\n",
        "temp_series"
      ],
      "execution_count": 23,
      "outputs": [
        {
          "output_type": "execute_result",
          "data": {
            "text/html": [
              "<div>\n",
              "<style scoped>\n",
              "    .dataframe tbody tr th:only-of-type {\n",
              "        vertical-align: middle;\n",
              "    }\n",
              "\n",
              "    .dataframe tbody tr th {\n",
              "        vertical-align: top;\n",
              "    }\n",
              "\n",
              "    .dataframe thead th {\n",
              "        text-align: right;\n",
              "    }\n",
              "</style>\n",
              "<table border=\"1\" class=\"dataframe\">\n",
              "  <thead>\n",
              "    <tr style=\"text-align: right;\">\n",
              "      <th></th>\n",
              "      <th>AirTemperature</th>\n",
              "      <th>DewPoint</th>\n",
              "      <th>WindSpeed</th>\n",
              "      <th>WindDirection</th>\n",
              "      <th>BarometricPressure</th>\n",
              "      <th>SolarRadiation</th>\n",
              "      <th>WindGust</th>\n",
              "      <th>GagePrecipitation</th>\n",
              "    </tr>\n",
              "    <tr>\n",
              "      <th>Timestamp</th>\n",
              "      <th></th>\n",
              "      <th></th>\n",
              "      <th></th>\n",
              "      <th></th>\n",
              "      <th></th>\n",
              "      <th></th>\n",
              "      <th></th>\n",
              "      <th></th>\n",
              "    </tr>\n",
              "  </thead>\n",
              "  <tbody>\n",
              "    <tr>\n",
              "      <th>2015-10-01 00:00</th>\n",
              "      <td>17.3</td>\n",
              "      <td>16.6</td>\n",
              "      <td>5.1</td>\n",
              "      <td>349.7</td>\n",
              "      <td></td>\n",
              "      <td>0</td>\n",
              "      <td>8.1</td>\n",
              "      <td>0.0</td>\n",
              "    </tr>\n",
              "    <tr>\n",
              "      <th>2015-10-01 00:05</th>\n",
              "      <td>17.4</td>\n",
              "      <td>16.7</td>\n",
              "      <td>4.4</td>\n",
              "      <td>348.3</td>\n",
              "      <td></td>\n",
              "      <td>0</td>\n",
              "      <td>7.9</td>\n",
              "      <td>0.0</td>\n",
              "    </tr>\n",
              "    <tr>\n",
              "      <th>2015-10-01 00:10</th>\n",
              "      <td>17.4</td>\n",
              "      <td>16.7</td>\n",
              "      <td>5.0</td>\n",
              "      <td>349.8</td>\n",
              "      <td></td>\n",
              "      <td>0</td>\n",
              "      <td>7.9</td>\n",
              "      <td>0.0</td>\n",
              "    </tr>\n",
              "    <tr>\n",
              "      <th>2015-10-01 00:15</th>\n",
              "      <td>17.5</td>\n",
              "      <td>16.8</td>\n",
              "      <td>5.4</td>\n",
              "      <td>352.7</td>\n",
              "      <td></td>\n",
              "      <td>0</td>\n",
              "      <td>8.1</td>\n",
              "      <td>0.0</td>\n",
              "    </tr>\n",
              "    <tr>\n",
              "      <th>2015-10-01 00:20</th>\n",
              "      <td>17.5</td>\n",
              "      <td>16.9</td>\n",
              "      <td>5.4</td>\n",
              "      <td>355.7</td>\n",
              "      <td></td>\n",
              "      <td>0</td>\n",
              "      <td>8.1</td>\n",
              "      <td>0.0</td>\n",
              "    </tr>\n",
              "    <tr>\n",
              "      <th>...</th>\n",
              "      <td>...</td>\n",
              "      <td>...</td>\n",
              "      <td>...</td>\n",
              "      <td>...</td>\n",
              "      <td>...</td>\n",
              "      <td>...</td>\n",
              "      <td>...</td>\n",
              "      <td>...</td>\n",
              "    </tr>\n",
              "    <tr>\n",
              "      <th>2015-10-30 23:35</th>\n",
              "      <td>12.2</td>\n",
              "      <td>3.9</td>\n",
              "      <td>2.6</td>\n",
              "      <td>337.2</td>\n",
              "      <td></td>\n",
              "      <td>0</td>\n",
              "      <td>5.2</td>\n",
              "      <td>0.0</td>\n",
              "    </tr>\n",
              "    <tr>\n",
              "      <th>2015-10-30 23:40</th>\n",
              "      <td>12.2</td>\n",
              "      <td>3.7</td>\n",
              "      <td>1.9</td>\n",
              "      <td>326.2</td>\n",
              "      <td></td>\n",
              "      <td>0</td>\n",
              "      <td>6.3</td>\n",
              "      <td>0.0</td>\n",
              "    </tr>\n",
              "    <tr>\n",
              "      <th>2015-10-30 23:45</th>\n",
              "      <td>12.1</td>\n",
              "      <td>3.7</td>\n",
              "      <td>2.3</td>\n",
              "      <td>344.9</td>\n",
              "      <td></td>\n",
              "      <td>0</td>\n",
              "      <td>6.1</td>\n",
              "      <td>0.0</td>\n",
              "    </tr>\n",
              "    <tr>\n",
              "      <th>2015-10-30 23:50</th>\n",
              "      <td>12.0</td>\n",
              "      <td>3.8</td>\n",
              "      <td>2.5</td>\n",
              "      <td>340.3</td>\n",
              "      <td></td>\n",
              "      <td>0</td>\n",
              "      <td>4.5</td>\n",
              "      <td>0.0</td>\n",
              "    </tr>\n",
              "    <tr>\n",
              "      <th>2015-10-30 23:55</th>\n",
              "      <td>12.0</td>\n",
              "      <td>4.0</td>\n",
              "      <td>1.9</td>\n",
              "      <td>346.3</td>\n",
              "      <td></td>\n",
              "      <td>0</td>\n",
              "      <td>4.2</td>\n",
              "      <td>0.0</td>\n",
              "    </tr>\n",
              "  </tbody>\n",
              "</table>\n",
              "<p>7877 rows × 8 columns</p>\n",
              "</div>"
            ],
            "text/plain": [
              "                  AirTemperature  DewPoint  ...  WindGust  GagePrecipitation\n",
              "Timestamp                                   ...                             \n",
              "2015-10-01 00:00            17.3      16.6  ...       8.1                0.0\n",
              "2015-10-01 00:05            17.4      16.7  ...       7.9                0.0\n",
              "2015-10-01 00:10            17.4      16.7  ...       7.9                0.0\n",
              "2015-10-01 00:15            17.5      16.8  ...       8.1                0.0\n",
              "2015-10-01 00:20            17.5      16.9  ...       8.1                0.0\n",
              "...                          ...       ...  ...       ...                ...\n",
              "2015-10-30 23:35            12.2       3.9  ...       5.2                0.0\n",
              "2015-10-30 23:40            12.2       3.7  ...       6.3                0.0\n",
              "2015-10-30 23:45            12.1       3.7  ...       6.1                0.0\n",
              "2015-10-30 23:50            12.0       3.8  ...       4.5                0.0\n",
              "2015-10-30 23:55            12.0       4.0  ...       4.2                0.0\n",
              "\n",
              "[7877 rows x 8 columns]"
            ]
          },
          "metadata": {
            "tags": []
          },
          "execution_count": 23
        }
      ]
    },
    {
      "cell_type": "markdown",
      "metadata": {
        "id": "5ox3QD_7J3Wo"
      },
      "source": [
        "#Convert Wind Speed & Wind Gust data from m/s to mph"
      ]
    },
    {
      "cell_type": "code",
      "metadata": {
        "colab": {
          "base_uri": "https://localhost:8080/",
          "height": 426
        },
        "id": "-U9EVZ3fJ-C7",
        "outputId": "403cdab0-ebdf-4896-b20b-7dae0a9dbed8"
      },
      "source": [
        "# 1 m/s (meter per second) = 2.237 mph (miles per hour)\n",
        "temp_series[\"WindSpeed(mph)\"] = temp_series[\"WindSpeed\"] * 2.237\n",
        "temp_series[\"WindGust(mph)\"] = temp_series[\"WindGust\"] * 2.237\n",
        "temp_series.head()"
      ],
      "execution_count": 24,
      "outputs": [
        {
          "output_type": "stream",
          "text": [
            "/usr/local/lib/python3.6/dist-packages/ipykernel_launcher.py:2: SettingWithCopyWarning: \n",
            "A value is trying to be set on a copy of a slice from a DataFrame.\n",
            "Try using .loc[row_indexer,col_indexer] = value instead\n",
            "\n",
            "See the caveats in the documentation: https://pandas.pydata.org/pandas-docs/stable/user_guide/indexing.html#returning-a-view-versus-a-copy\n",
            "  \n",
            "/usr/local/lib/python3.6/dist-packages/ipykernel_launcher.py:3: SettingWithCopyWarning: \n",
            "A value is trying to be set on a copy of a slice from a DataFrame.\n",
            "Try using .loc[row_indexer,col_indexer] = value instead\n",
            "\n",
            "See the caveats in the documentation: https://pandas.pydata.org/pandas-docs/stable/user_guide/indexing.html#returning-a-view-versus-a-copy\n",
            "  This is separate from the ipykernel package so we can avoid doing imports until\n"
          ],
          "name": "stderr"
        },
        {
          "output_type": "execute_result",
          "data": {
            "text/html": [
              "<div>\n",
              "<style scoped>\n",
              "    .dataframe tbody tr th:only-of-type {\n",
              "        vertical-align: middle;\n",
              "    }\n",
              "\n",
              "    .dataframe tbody tr th {\n",
              "        vertical-align: top;\n",
              "    }\n",
              "\n",
              "    .dataframe thead th {\n",
              "        text-align: right;\n",
              "    }\n",
              "</style>\n",
              "<table border=\"1\" class=\"dataframe\">\n",
              "  <thead>\n",
              "    <tr style=\"text-align: right;\">\n",
              "      <th></th>\n",
              "      <th>AirTemperature</th>\n",
              "      <th>DewPoint</th>\n",
              "      <th>WindSpeed</th>\n",
              "      <th>WindDirection</th>\n",
              "      <th>BarometricPressure</th>\n",
              "      <th>SolarRadiation</th>\n",
              "      <th>WindGust</th>\n",
              "      <th>GagePrecipitation</th>\n",
              "      <th>WindSpeed(mph)</th>\n",
              "      <th>WindGust(mph)</th>\n",
              "    </tr>\n",
              "    <tr>\n",
              "      <th>Timestamp</th>\n",
              "      <th></th>\n",
              "      <th></th>\n",
              "      <th></th>\n",
              "      <th></th>\n",
              "      <th></th>\n",
              "      <th></th>\n",
              "      <th></th>\n",
              "      <th></th>\n",
              "      <th></th>\n",
              "      <th></th>\n",
              "    </tr>\n",
              "  </thead>\n",
              "  <tbody>\n",
              "    <tr>\n",
              "      <th>2015-10-01 00:00</th>\n",
              "      <td>17.3</td>\n",
              "      <td>16.6</td>\n",
              "      <td>5.1</td>\n",
              "      <td>349.7</td>\n",
              "      <td></td>\n",
              "      <td>0</td>\n",
              "      <td>8.1</td>\n",
              "      <td>0.0</td>\n",
              "      <td>11.4087</td>\n",
              "      <td>18.1197</td>\n",
              "    </tr>\n",
              "    <tr>\n",
              "      <th>2015-10-01 00:05</th>\n",
              "      <td>17.4</td>\n",
              "      <td>16.7</td>\n",
              "      <td>4.4</td>\n",
              "      <td>348.3</td>\n",
              "      <td></td>\n",
              "      <td>0</td>\n",
              "      <td>7.9</td>\n",
              "      <td>0.0</td>\n",
              "      <td>9.8428</td>\n",
              "      <td>17.6723</td>\n",
              "    </tr>\n",
              "    <tr>\n",
              "      <th>2015-10-01 00:10</th>\n",
              "      <td>17.4</td>\n",
              "      <td>16.7</td>\n",
              "      <td>5.0</td>\n",
              "      <td>349.8</td>\n",
              "      <td></td>\n",
              "      <td>0</td>\n",
              "      <td>7.9</td>\n",
              "      <td>0.0</td>\n",
              "      <td>11.1850</td>\n",
              "      <td>17.6723</td>\n",
              "    </tr>\n",
              "    <tr>\n",
              "      <th>2015-10-01 00:15</th>\n",
              "      <td>17.5</td>\n",
              "      <td>16.8</td>\n",
              "      <td>5.4</td>\n",
              "      <td>352.7</td>\n",
              "      <td></td>\n",
              "      <td>0</td>\n",
              "      <td>8.1</td>\n",
              "      <td>0.0</td>\n",
              "      <td>12.0798</td>\n",
              "      <td>18.1197</td>\n",
              "    </tr>\n",
              "    <tr>\n",
              "      <th>2015-10-01 00:20</th>\n",
              "      <td>17.5</td>\n",
              "      <td>16.9</td>\n",
              "      <td>5.4</td>\n",
              "      <td>355.7</td>\n",
              "      <td></td>\n",
              "      <td>0</td>\n",
              "      <td>8.1</td>\n",
              "      <td>0.0</td>\n",
              "      <td>12.0798</td>\n",
              "      <td>18.1197</td>\n",
              "    </tr>\n",
              "  </tbody>\n",
              "</table>\n",
              "</div>"
            ],
            "text/plain": [
              "                  AirTemperature  DewPoint  ...  WindSpeed(mph)  WindGust(mph)\n",
              "Timestamp                                   ...                               \n",
              "2015-10-01 00:00            17.3      16.6  ...         11.4087        18.1197\n",
              "2015-10-01 00:05            17.4      16.7  ...          9.8428        17.6723\n",
              "2015-10-01 00:10            17.4      16.7  ...         11.1850        17.6723\n",
              "2015-10-01 00:15            17.5      16.8  ...         12.0798        18.1197\n",
              "2015-10-01 00:20            17.5      16.9  ...         12.0798        18.1197\n",
              "\n",
              "[5 rows x 10 columns]"
            ]
          },
          "metadata": {
            "tags": []
          },
          "execution_count": 24
        }
      ]
    },
    {
      "cell_type": "markdown",
      "metadata": {
        "id": "tAc6YhgiJ5Na"
      },
      "source": [
        "#Plot wind speed and wind gust on same plot - wind speed as lines and wind gust as points"
      ]
    },
    {
      "cell_type": "markdown",
      "metadata": {
        "id": "Fp_A8DUHJ62q"
      },
      "source": [
        "#Add legend"
      ]
    },
    {
      "cell_type": "code",
      "metadata": {
        "id": "u-f4dRYHJ-cj"
      },
      "source": [
        "#plt.figure(figsize=[7,4])\n",
        "#plt.plot(temp_series[\"WindSpeed(mph)\"])"
      ],
      "execution_count": 28,
      "outputs": []
    },
    {
      "cell_type": "code",
      "metadata": {
        "colab": {
          "base_uri": "https://localhost:8080/",
          "height": 367
        },
        "id": "lOrTpbssTl1S",
        "outputId": "4c628f33-2423-4759-cbd5-106235cc9602"
      },
      "source": [
        "plt.close()\n",
        "\n",
        "plt.figure()\n",
        "temp_series[\"WindSpeed(mph)\"][\"2015-10-01\" : \"2015-10-31\"].plot(color='red', figsize=[15,5])\n",
        "temp_series[\"WindGust(mph)\"][\"2015-10-01\" : \"2015-10-31\"].plot(color='blue') #, style = '.')\n",
        "plt.xlabel('Timestamp')\n",
        "plt.ylabel('miles per hour')\n",
        "plt.title('Deos Data October, 2015')\n",
        "plt.legend()"
      ],
      "execution_count": 38,
      "outputs": [
        {
          "output_type": "execute_result",
          "data": {
            "text/plain": [
              "<matplotlib.legend.Legend at 0x7f00d296bf60>"
            ]
          },
          "metadata": {
            "tags": []
          },
          "execution_count": 38
        },
        {
          "output_type": "display_data",
          "data": {
            "image/png": "[encoded data removed]",
            "text/plain": [
              "<Figure size 1080x360 with 1 Axes>"
            ]
          },
          "metadata": {
            "tags": [],
            "needs_background": "light"
          }
        }
      ]
    },
    {
      "cell_type": "code",
      "metadata": {
        "colab": {
          "base_uri": "https://localhost:8080/",
          "height": 367
        },
        "id": "j6Pypji0_kPP",
        "outputId": "93d2f0bc-091f-47e3-ef67-2d47185849e9"
      },
      "source": [
        "plt.close()\n",
        "\n",
        "plt.figure()\n",
        "temp_series[\"WindSpeed(mph)\"][\"2015-10-01\" : \"2015-10-31\"].plot(color='red', figsize=[20,5])\n",
        "temp_series[\"WindGust(mph)\"][\"2015-10-01\" : \"2015-10-31\"].plot(color='blue') #, style = '.')\n",
        "plt.xlabel('Timestamp')\n",
        "plt.ylabel('Miles per hour')\n",
        "plt.title('Correlation coefficient between wind speed and windgust in Octboer 2015 is 0.982')\n",
        "plt.legend()"
      ],
      "execution_count": 39,
      "outputs": [
        {
          "output_type": "execute_result",
          "data": {
            "text/plain": [
              "<matplotlib.legend.Legend at 0x7f00cfcb9470>"
            ]
          },
          "metadata": {
            "tags": []
          },
          "execution_count": 39
        },
        {
          "output_type": "display_data",
          "data": {
            "image/png": "[encoded data removed]",
            "text/plain": [
              "<Figure size 1440x360 with 1 Axes>"
            ]
          },
          "metadata": {
            "tags": [],
            "needs_background": "light"
          }
        }
      ]
    },
    {
      "cell_type": "markdown",
      "metadata": {
        "id": "NEadPOkXJ8tA"
      },
      "source": [
        "#Compute correlation coefficient between wind gust and wind speed using pandas.dataframe.corr() - add to title of plot"
      ]
    },
    {
      "cell_type": "code",
      "metadata": {
        "id": "AO27d6BSWFK2"
      },
      "source": [
        "import numpy as np\n",
        "import pandas as pd\n",
        "import matplotlib.pyplot as plt"
      ],
      "execution_count": 30,
      "outputs": []
    },
    {
      "cell_type": "code",
      "metadata": {
        "colab": {
          "base_uri": "https://localhost:8080/"
        },
        "id": "X3t7jfKPUhh9",
        "outputId": "f9af0812-2c79-4a1d-eff4-666de7edac20"
      },
      "source": [
        "x = temp_series[\"WindSpeed(mph)\"]\n",
        "y = temp_series[\"WindGust(mph)\"]\n",
        "print(np.corrcoef(x, y))"
      ],
      "execution_count": 32,
      "outputs": [
        {
          "output_type": "stream",
          "text": [
            "[[1.         0.98237619]\n",
            " [0.98237619 1.        ]]\n"
          ],
          "name": "stdout"
        }
      ]
    },
    {
      "cell_type": "code",
      "metadata": {
        "colab": {
          "base_uri": "https://localhost:8080/",
          "height": 282
        },
        "id": "_xZcghZFYADn",
        "outputId": "7bb853f2-35b0-45af-da79-7a8a2bfb6c77"
      },
      "source": [
        "plt.scatter(x,y)\n",
        "plt.plot(np.unique(x), np.poly1d(np.polyfit(x, y, 1))(np.unique(x)), color='yellow')"
      ],
      "execution_count": 33,
      "outputs": [
        {
          "output_type": "execute_result",
          "data": {
            "text/plain": [
              "[<matplotlib.lines.Line2D at 0x7f00d405f5c0>]"
            ]
          },
          "metadata": {
            "tags": []
          },
          "execution_count": 33
        },
        {
          "output_type": "display_data",
          "data": {
            "image/png": "[encoded data removed]",
            "text/plain": [
              "<Figure size 432x288 with 1 Axes>"
            ]
          },
          "metadata": {
            "tags": [],
            "needs_background": "light"
          }
        }
      ]
    },
    {
      "cell_type": "code",
      "metadata": {
        "colab": {
          "base_uri": "https://localhost:8080/",
          "height": 314
        },
        "id": "E2A0mllVXeg0",
        "outputId": "642e17e7-962a-403e-f8d9-9d085e86f59c"
      },
      "source": [
        "temp_series.corr()"
      ],
      "execution_count": 34,
      "outputs": [
        {
          "output_type": "execute_result",
          "data": {
            "text/html": [
              "<div>\n",
              "<style scoped>\n",
              "    .dataframe tbody tr th:only-of-type {\n",
              "        vertical-align: middle;\n",
              "    }\n",
              "\n",
              "    .dataframe tbody tr th {\n",
              "        vertical-align: top;\n",
              "    }\n",
              "\n",
              "    .dataframe thead th {\n",
              "        text-align: right;\n",
              "    }\n",
              "</style>\n",
              "<table border=\"1\" class=\"dataframe\">\n",
              "  <thead>\n",
              "    <tr style=\"text-align: right;\">\n",
              "      <th></th>\n",
              "      <th>AirTemperature</th>\n",
              "      <th>DewPoint</th>\n",
              "      <th>WindSpeed</th>\n",
              "      <th>WindDirection</th>\n",
              "      <th>SolarRadiation</th>\n",
              "      <th>WindGust</th>\n",
              "      <th>GagePrecipitation</th>\n",
              "      <th>WindSpeed(mph)</th>\n",
              "      <th>WindGust(mph)</th>\n",
              "    </tr>\n",
              "  </thead>\n",
              "  <tbody>\n",
              "    <tr>\n",
              "      <th>AirTemperature</th>\n",
              "      <td>1.000000</td>\n",
              "      <td>0.459385</td>\n",
              "      <td>-0.044804</td>\n",
              "      <td>-0.002184</td>\n",
              "      <td>0.517734</td>\n",
              "      <td>-0.004257</td>\n",
              "      <td>-0.082454</td>\n",
              "      <td>-0.044804</td>\n",
              "      <td>-0.004257</td>\n",
              "    </tr>\n",
              "    <tr>\n",
              "      <th>DewPoint</th>\n",
              "      <td>0.459385</td>\n",
              "      <td>1.000000</td>\n",
              "      <td>0.293849</td>\n",
              "      <td>-0.246484</td>\n",
              "      <td>-0.208392</td>\n",
              "      <td>0.279506</td>\n",
              "      <td>0.098115</td>\n",
              "      <td>0.293849</td>\n",
              "      <td>0.279506</td>\n",
              "    </tr>\n",
              "    <tr>\n",
              "      <th>WindSpeed</th>\n",
              "      <td>-0.044804</td>\n",
              "      <td>0.293849</td>\n",
              "      <td>1.000000</td>\n",
              "      <td>-0.627331</td>\n",
              "      <td>-0.105351</td>\n",
              "      <td>0.982376</td>\n",
              "      <td>0.243599</td>\n",
              "      <td>1.000000</td>\n",
              "      <td>0.982376</td>\n",
              "    </tr>\n",
              "    <tr>\n",
              "      <th>WindDirection</th>\n",
              "      <td>-0.002184</td>\n",
              "      <td>-0.246484</td>\n",
              "      <td>-0.627331</td>\n",
              "      <td>1.000000</td>\n",
              "      <td>0.074747</td>\n",
              "      <td>-0.553070</td>\n",
              "      <td>-0.141756</td>\n",
              "      <td>-0.627331</td>\n",
              "      <td>-0.553070</td>\n",
              "    </tr>\n",
              "    <tr>\n",
              "      <th>SolarRadiation</th>\n",
              "      <td>0.517734</td>\n",
              "      <td>-0.208392</td>\n",
              "      <td>-0.105351</td>\n",
              "      <td>0.074747</td>\n",
              "      <td>1.000000</td>\n",
              "      <td>-0.066350</td>\n",
              "      <td>-0.094563</td>\n",
              "      <td>-0.105351</td>\n",
              "      <td>-0.066350</td>\n",
              "    </tr>\n",
              "    <tr>\n",
              "      <th>WindGust</th>\n",
              "      <td>-0.004257</td>\n",
              "      <td>0.279506</td>\n",
              "      <td>0.982376</td>\n",
              "      <td>-0.553070</td>\n",
              "      <td>-0.066350</td>\n",
              "      <td>1.000000</td>\n",
              "      <td>0.243111</td>\n",
              "      <td>0.982376</td>\n",
              "      <td>1.000000</td>\n",
              "    </tr>\n",
              "    <tr>\n",
              "      <th>GagePrecipitation</th>\n",
              "      <td>-0.082454</td>\n",
              "      <td>0.098115</td>\n",
              "      <td>0.243599</td>\n",
              "      <td>-0.141756</td>\n",
              "      <td>-0.094563</td>\n",
              "      <td>0.243111</td>\n",
              "      <td>1.000000</td>\n",
              "      <td>0.243599</td>\n",
              "      <td>0.243111</td>\n",
              "    </tr>\n",
              "    <tr>\n",
              "      <th>WindSpeed(mph)</th>\n",
              "      <td>-0.044804</td>\n",
              "      <td>0.293849</td>\n",
              "      <td>1.000000</td>\n",
              "      <td>-0.627331</td>\n",
              "      <td>-0.105351</td>\n",
              "      <td>0.982376</td>\n",
              "      <td>0.243599</td>\n",
              "      <td>1.000000</td>\n",
              "      <td>0.982376</td>\n",
              "    </tr>\n",
              "    <tr>\n",
              "      <th>WindGust(mph)</th>\n",
              "      <td>-0.004257</td>\n",
              "      <td>0.279506</td>\n",
              "      <td>0.982376</td>\n",
              "      <td>-0.553070</td>\n",
              "      <td>-0.066350</td>\n",
              "      <td>1.000000</td>\n",
              "      <td>0.243111</td>\n",
              "      <td>0.982376</td>\n",
              "      <td>1.000000</td>\n",
              "    </tr>\n",
              "  </tbody>\n",
              "</table>\n",
              "</div>"
            ],
            "text/plain": [
              "                   AirTemperature  DewPoint  ...  WindSpeed(mph)  WindGust(mph)\n",
              "AirTemperature           1.000000  0.459385  ...       -0.044804      -0.004257\n",
              "DewPoint                 0.459385  1.000000  ...        0.293849       0.279506\n",
              "WindSpeed               -0.044804  0.293849  ...        1.000000       0.982376\n",
              "WindDirection           -0.002184 -0.246484  ...       -0.627331      -0.553070\n",
              "SolarRadiation           0.517734 -0.208392  ...       -0.105351      -0.066350\n",
              "WindGust                -0.004257  0.279506  ...        0.982376       1.000000\n",
              "GagePrecipitation       -0.082454  0.098115  ...        0.243599       0.243111\n",
              "WindSpeed(mph)          -0.044804  0.293849  ...        1.000000       0.982376\n",
              "WindGust(mph)           -0.004257  0.279506  ...        0.982376       1.000000\n",
              "\n",
              "[9 rows x 9 columns]"
            ]
          },
          "metadata": {
            "tags": []
          },
          "execution_count": 34
        }
      ]
    },
    {
      "cell_type": "code",
      "metadata": {
        "colab": {
          "base_uri": "https://localhost:8080/",
          "height": 106
        },
        "id": "_gmXR1tTWsLB",
        "outputId": "e6e9c35a-0bd7-47c7-c4b8-3e26e9c8f44b"
      },
      "source": [
        "df = temp_series[[\"WindSpeed(mph)\", \"WindGust(mph)\"]]\n",
        "df.corr()"
      ],
      "execution_count": 35,
      "outputs": [
        {
          "output_type": "execute_result",
          "data": {
            "text/html": [
              "<div>\n",
              "<style scoped>\n",
              "    .dataframe tbody tr th:only-of-type {\n",
              "        vertical-align: middle;\n",
              "    }\n",
              "\n",
              "    .dataframe tbody tr th {\n",
              "        vertical-align: top;\n",
              "    }\n",
              "\n",
              "    .dataframe thead th {\n",
              "        text-align: right;\n",
              "    }\n",
              "</style>\n",
              "<table border=\"1\" class=\"dataframe\">\n",
              "  <thead>\n",
              "    <tr style=\"text-align: right;\">\n",
              "      <th></th>\n",
              "      <th>WindSpeed(mph)</th>\n",
              "      <th>WindGust(mph)</th>\n",
              "    </tr>\n",
              "  </thead>\n",
              "  <tbody>\n",
              "    <tr>\n",
              "      <th>WindSpeed(mph)</th>\n",
              "      <td>1.000000</td>\n",
              "      <td>0.982376</td>\n",
              "    </tr>\n",
              "    <tr>\n",
              "      <th>WindGust(mph)</th>\n",
              "      <td>0.982376</td>\n",
              "      <td>1.000000</td>\n",
              "    </tr>\n",
              "  </tbody>\n",
              "</table>\n",
              "</div>"
            ],
            "text/plain": [
              "                WindSpeed(mph)  WindGust(mph)\n",
              "WindSpeed(mph)        1.000000       0.982376\n",
              "WindGust(mph)         0.982376       1.000000"
            ]
          },
          "metadata": {
            "tags": []
          },
          "execution_count": 35
        }
      ]
    },
    {
      "cell_type": "code",
      "metadata": {
        "colab": {
          "base_uri": "https://localhost:8080/",
          "height": 106
        },
        "id": "ESAPvUhgXIOn",
        "outputId": "3f761a0d-51aa-43dc-ddf8-3d2243583ba7"
      },
      "source": [
        "df.corr(method='pearson')"
      ],
      "execution_count": 36,
      "outputs": [
        {
          "output_type": "execute_result",
          "data": {
            "text/html": [
              "<div>\n",
              "<style scoped>\n",
              "    .dataframe tbody tr th:only-of-type {\n",
              "        vertical-align: middle;\n",
              "    }\n",
              "\n",
              "    .dataframe tbody tr th {\n",
              "        vertical-align: top;\n",
              "    }\n",
              "\n",
              "    .dataframe thead th {\n",
              "        text-align: right;\n",
              "    }\n",
              "</style>\n",
              "<table border=\"1\" class=\"dataframe\">\n",
              "  <thead>\n",
              "    <tr style=\"text-align: right;\">\n",
              "      <th></th>\n",
              "      <th>WindSpeed(mph)</th>\n",
              "      <th>WindGust(mph)</th>\n",
              "    </tr>\n",
              "  </thead>\n",
              "  <tbody>\n",
              "    <tr>\n",
              "      <th>WindSpeed(mph)</th>\n",
              "      <td>1.000000</td>\n",
              "      <td>0.982376</td>\n",
              "    </tr>\n",
              "    <tr>\n",
              "      <th>WindGust(mph)</th>\n",
              "      <td>0.982376</td>\n",
              "      <td>1.000000</td>\n",
              "    </tr>\n",
              "  </tbody>\n",
              "</table>\n",
              "</div>"
            ],
            "text/plain": [
              "                WindSpeed(mph)  WindGust(mph)\n",
              "WindSpeed(mph)        1.000000       0.982376\n",
              "WindGust(mph)         0.982376       1.000000"
            ]
          },
          "metadata": {
            "tags": []
          },
          "execution_count": 36
        }
      ]
    },
    {
      "cell_type": "code",
      "metadata": {
        "colab": {
          "base_uri": "https://localhost:8080/",
          "height": 481
        },
        "id": "YOAxjDsKUhfV",
        "outputId": "45ff4ec3-5a76-4036-f8f2-021aec09fb74"
      },
      "source": [
        "fig = plt.figure(figsize=(8,8))\n",
        "plt.matshow(df.corr(), fignum=fig.number)\n",
        "plt.xticks(range(df.shape[1]), df.columns, fontsize=10) #, rotation=45)\n",
        "plt.yticks(range(df.shape[1]), df.columns, fontsize=10)\n",
        "cb = plt.colorbar()\n",
        "cb.ax.tick_params(labelsize=10)\n",
        "plt.title(\"Correlation Matrix\", fontsize=20)\n",
        "plt.show()"
      ],
      "execution_count": 37,
      "outputs": [
        {
          "output_type": "display_data",
          "data": {
            "image/png": "[encoded data removed]",
            "text/plain": [
              "<Figure size 576x576 with 2 Axes>"
            ]
          },
          "metadata": {
            "tags": [],
            "needs_background": "light"
          }
        }
      ]
    },
    {
      "cell_type": "code",
      "metadata": {
        "id": "23nPfQ1PJ_UX"
      },
      "source": [
        ""
      ],
      "execution_count": 37,
      "outputs": []
    }
  ]
}